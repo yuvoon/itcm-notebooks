{
 "cells": [
  {
   "cell_type": "markdown",
   "metadata": {},
   "source": [
    "# Lab 4\n",
    "\n",
    "1. 提交作業之前，建議可以先點選上方工具列的**Kernel**，再選擇**Restart & Run All**，檢查一下是否程式跑起來都沒有問題，最後記得儲存。\n",
    "2. 請先填上下方的姓名(name)及學號(stduent_id)再開始作答，例如：\n",
    "```python\n",
    "name = \"我的名字\"\n",
    "student_id= \"B06201000\"\n",
    "```\n",
    "3. 演算法的實作可以參考[lab-4](https://yuanyuyuan.github.io/itcm/lab-4.html), 有任何問題歡迎找助教詢問。\n",
    "4. **Deadline: 11/20(Wed.)**"
   ]
  },
  {
   "cell_type": "code",
   "execution_count": 1,
   "metadata": {},
   "outputs": [],
   "source": [
    "name = \"黃宇文\"\n",
    "student_id = \"B06201029\""
   ]
  },
  {
   "cell_type": "markdown",
   "metadata": {},
   "source": [
    "---"
   ]
  },
  {
   "cell_type": "markdown",
   "metadata": {
    "deletable": false,
    "editable": false,
    "nbgrader": {
     "cell_type": "markdown",
     "checksum": "478b50b12538c0f5f000f5a7425e6bb6",
     "grade": false,
     "grade_id": "cell-7e330ce7b3b19144",
     "locked": true,
     "schema_version": 3,
     "solution": false,
     "task": false
    }
   },
   "source": [
    "# Exercise 2\n",
    "---\n",
    "### Let $I(f)$ be a define integral defined by\n",
    "### $$I(f) = \\int_0^1 f(x) dx,$$\n",
    "### and consider the quadrature formula\n",
    "### $$\\hat{I}(f) = \\alpha_1 f(0) + \\alpha_2 f(1) + \\alpha_3 f'(0) \\quad \\quad \\quad (*)$$\n",
    "### for approximation of $I(f)$."
   ]
  },
  {
   "cell_type": "markdown",
   "metadata": {
    "deletable": false,
    "editable": false,
    "nbgrader": {
     "cell_type": "markdown",
     "checksum": "5bf8f77a586ef75083294cefe240beca",
     "grade": false,
     "grade_id": "cell-5102281eeba1a6e0",
     "locked": true,
     "schema_version": 3,
     "solution": false,
     "task": false
    }
   },
   "source": [
    "---\n",
    "### Part 1. \n",
    "\n",
    "#### Determine the coefficients $\\alpha_j$ for $j = 1,\\,2,\\,3$ in such a way that $\\hat{I}$ has the degree of exactness $r = 2$. Here the degree of exactness $r$ is to find $r$ such that\n",
    "#### $$\\hat{I}(x^k)=\\hat{I}(x^j) \\quad \\text{for} \\quad k = 0,\\,1,\\dots,\\,r \\quad \\text{and} \\quad \\hat{I}(x^j) \\neq I(x^j) \\quad \\text{for} \\quad j > r, $$\n",
    "#### where $x^j$ denote the $j$-th power of $x$.\n",
    "---"
   ]
  },
  {
   "cell_type": "markdown",
   "metadata": {
    "deletable": false,
    "editable": false,
    "nbgrader": {
     "cell_type": "markdown",
     "checksum": "fcf9ef3f2024ca6dd6f22cc27df10684",
     "grade": false,
     "grade_id": "cell-b365bd0d80c81f26",
     "locked": true,
     "points": 2,
     "schema_version": 3,
     "solution": false,
     "task": true
    }
   },
   "source": [
    "Derive the values of $\\alpha_1, \\alpha_2, \\alpha_3$ in $(*)$.  You need to write down the detail in the cell below with Markdown/LaTeX. "
   ]
  },
  {
   "cell_type": "markdown",
   "metadata": {},
   "source": [
    "For $f(x)=1$,\n",
    "\\begin{align}\n",
    "\\hat{I}(f) = \\int_0^1 \\! 1 \\, \\mathrm{d}x &= \\alpha_1(1) + \\alpha_2(1) + \\alpha_3(0) \\\\\n",
    "1 &= \\alpha_1 + \\alpha_2\n",
    "\\end{align}\n",
    "\\\n",
    "For $f(x)=x$,\n",
    "\\begin{align}\n",
    "\\hat{I}(f) = \\int_0^1 \\! x \\, \\mathrm{d}x &= \\alpha_1(0) + \\alpha_2(1) + \\alpha_3(1) \\\\\n",
    "\\frac{1}{2} &= \\alpha_2 + \\alpha_3\n",
    "\\end{align}\n",
    "\\\n",
    "For $f(x)=x^2$,\n",
    "\\begin{align}\n",
    "\\hat{I}(f) = \\int_0^1 \\! x^2 \\, \\mathrm{d}x &= \\alpha_1(0) + \\alpha_2(1) + \\alpha_3(0) \\\\\n",
    "\\frac{1}{3} &= \\alpha_2\n",
    "\\end{align}\n",
    "\\\n",
    "\\begin{align}\n",
    "\\alpha_1 &= 1 - \\frac{1}{3} = \\frac{2}{3} \\\\\n",
    "\\alpha_2 &= \\frac{1}{3} \\\\\n",
    "\\alpha_3 &= \\frac{1}{2} - \\frac{1}{3} = \\frac{1}{6}\n",
    "\\end{align}"
   ]
  },
  {
   "cell_type": "markdown",
   "metadata": {
    "deletable": false,
    "editable": false,
    "nbgrader": {
     "cell_type": "markdown",
     "checksum": "e436e7cff6d9e547ddd385c287940e2a",
     "grade": false,
     "grade_id": "cell-915ed1c362e99056",
     "locked": true,
     "schema_version": 3,
     "solution": false,
     "task": false
    }
   },
   "source": [
    "Fill in the tuple variable `alpha_1`,  `alpha_2`, `alpha_3` with your answer above. "
   ]
  },
  {
   "cell_type": "code",
   "execution_count": 2,
   "metadata": {
    "deletable": false,
    "nbgrader": {
     "cell_type": "code",
     "checksum": "5c452a2f9ec551b306cf4ae64ea31070",
     "grade": false,
     "grade_id": "alpha",
     "locked": false,
     "schema_version": 3,
     "solution": true,
     "task": false
    }
   },
   "outputs": [],
   "source": [
    "'''Hint: \n",
    "alpha_1 = ?\n",
    "alpha_2 = ?\n",
    "alpha_3 = ?\n",
    "'''\n",
    "# ===== 請實做程式 =====\n",
    "alpha_1 = 2/3\n",
    "alpha_2 = 1/3\n",
    "alpha_3 = 1/6\n",
    "# ===================="
   ]
  },
  {
   "cell_type": "code",
   "execution_count": 3,
   "metadata": {
    "deletable": false,
    "editable": false,
    "nbgrader": {
     "cell_type": "code",
     "checksum": "9c3df7074e9eeb29a29f27e2ccb5c1e0",
     "grade": true,
     "grade_id": "part_1",
     "locked": true,
     "points": 3,
     "schema_version": 3,
     "solution": false,
     "task": false
    }
   },
   "outputs": [
    {
     "name": "stdout",
     "output_type": "stream",
     "text": [
      "alpha_1 = 0.6666666666666666\n",
      "alpha_2 = 0.3333333333333333\n",
      "alpha_3 = 0.16666666666666666\n"
     ]
    }
   ],
   "source": [
    "print(\"alpha_1 =\", alpha_1)\n",
    "print(\"alpha_2 =\", alpha_2)\n",
    "print(\"alpha_3 =\", alpha_3)"
   ]
  },
  {
   "cell_type": "markdown",
   "metadata": {
    "deletable": false,
    "editable": false,
    "nbgrader": {
     "cell_type": "markdown",
     "checksum": "31778b1871efb0247dcba6b014107a8a",
     "grade": false,
     "grade_id": "cell-1758e5d0c54d0795",
     "locked": true,
     "points": 3,
     "schema_version": 3,
     "solution": false,
     "task": true
    }
   },
   "source": [
    "---\n",
    "### Part 2. \n",
    "\n",
    "#### Find an apppropriate expression for the error $E(f) = I(f) - \\hat{I}(f)$, and write your process in the below cell with Markdown/LaTeX.\n",
    "\n",
    "---"
   ]
  },
  {
   "cell_type": "markdown",
   "metadata": {},
   "source": [
    "\\begin{align}\n",
    "\\hat{I}(f) &= \\frac{2}{3}f(0) + \\frac{1}{3}f(1) + \\frac{1}{6}f'(0) \\\\\n",
    "I(f) &= \\int_0^1 \\! f(x) \\, \\mathrm{d}x \\\\\n",
    "E(f) &= I(f) - \\hat{I}(f) = \\frac{1}{2!}\\int_0^1 \\! f^{(3)}(t)E\\left((x-t)^2_+\\right) \\, \\mathrm{d}t \\\\\n",
    "\\\\\n",
    "E\\left((x-t)^2_+\\right) &= \\int_0^1 \\! (x-t)^2_+ \\, \\mathrm{d}x - \\hat{I}\\left((x-t)^2_+\\right) \\\\\n",
    "&= \\int_t^1 \\! (x-t)^2 \\, \\mathrm{d}x - \\hat{I}\\left((x-t)^2_+\\right) \\\\\n",
    "&= \\left[\\frac{(x-t)^2}{3}\\right]^1_{x=t} - \\left(\\frac{2}{3}(0-t)^2_+ + \\frac{1}{3}(1-t)^2_+ + \\frac{1}{3}(0-t)_+ \\right) \\\\\n",
    "&= \\frac{(1-t)^3}{3} - \\frac{(1-t)^2}{3} = -\\frac{1}{3}t(1-t)^2\\\\\n",
    "\\\\\n",
    "\\therefore E(f) &= -\\frac{1}{6}\\int_0^1 \\! t(1-t)^2f^{(3)}(t) \\, \\mathrm{d}t \n",
    "\\end{align}"
   ]
  },
  {
   "cell_type": "markdown",
   "metadata": {
    "deletable": false,
    "editable": false,
    "nbgrader": {
     "cell_type": "markdown",
     "checksum": "c5622fbd2636484daf597139ed77309c",
     "grade": false,
     "grade_id": "cell-e21c88720b9ebb60",
     "locked": true,
     "schema_version": 3,
     "solution": false,
     "task": false
    }
   },
   "source": [
    "---\n",
    "### Part 3. \n",
    "### Compute\n",
    "###  $$\\int_0^1 e^{-\\frac{x^2}{2}} dx$$\n",
    "###  using quadrature formulas $(*)$, the Simpson's rule and the Gauss-Legendre formula in the case $n = 1$. Compare the obtained results."
   ]
  },
  {
   "cell_type": "markdown",
   "metadata": {
    "deletable": false,
    "editable": false,
    "nbgrader": {
     "cell_type": "markdown",
     "checksum": "1580d5fba62da7cf5a368d27f35b017b",
     "grade": false,
     "grade_id": "cell-cd59da7cbfaa96b7",
     "locked": true,
     "schema_version": 3,
     "solution": false,
     "task": false
    }
   },
   "source": [
    "### Part 3.1\n",
    "\n",
    "Import necessary libraries"
   ]
  },
  {
   "cell_type": "code",
   "execution_count": 4,
   "metadata": {
    "deletable": false,
    "editable": false,
    "nbgrader": {
     "cell_type": "code",
     "checksum": "4f842a1a643b5dea0af7341c143fe1e7",
     "grade": false,
     "grade_id": "cell-d78eddaa8a481038",
     "locked": true,
     "schema_version": 3,
     "solution": false,
     "task": false
    }
   },
   "outputs": [],
   "source": [
    "import numpy as np\n",
    "import matplotlib.pyplot as plt\n",
    "from scipy.special.orthogonal import p_roots"
   ]
  },
  {
   "cell_type": "markdown",
   "metadata": {
    "deletable": false,
    "editable": false,
    "nbgrader": {
     "cell_type": "markdown",
     "checksum": "1f362fa2b3795b3f35add894449adebb",
     "grade": false,
     "grade_id": "cell-36f15732e3c5a2e9",
     "locked": true,
     "schema_version": 3,
     "solution": false,
     "task": false
    }
   },
   "source": [
    "### Part 3.2 \n",
    "\n",
    "Define the function $f(x) = e^{-\\frac{x^2}{2}}$ and its derivative."
   ]
  },
  {
   "cell_type": "code",
   "execution_count": 5,
   "metadata": {
    "deletable": false,
    "nbgrader": {
     "cell_type": "code",
     "checksum": "1593510ea94f6d40b27bbe408b53e8b9",
     "grade": false,
     "grade_id": "function",
     "locked": false,
     "schema_version": 3,
     "solution": true,
     "task": false
    }
   },
   "outputs": [],
   "source": [
    "def f(x):\n",
    "    # ===== 請實做程式 =====\n",
    "    return np.exp(-x**2/2)\n",
    "    # ====================\n",
    "    \n",
    "def d_f(x):\n",
    "    # ===== 請實做程式 =====\n",
    "    return np.exp(-x**2/2)*(-x)\n",
    "    # ===================="
   ]
  },
  {
   "cell_type": "markdown",
   "metadata": {
    "deletable": false,
    "editable": false,
    "nbgrader": {
     "cell_type": "markdown",
     "checksum": "ec7833236a551dc59a1f761bba85893b",
     "grade": false,
     "grade_id": "cell-a5e1fe5226056ab9",
     "locked": true,
     "schema_version": 3,
     "solution": false,
     "task": false
    }
   },
   "source": [
    "Print and check your functions."
   ]
  },
  {
   "cell_type": "code",
   "execution_count": 6,
   "metadata": {
    "deletable": false,
    "editable": false,
    "nbgrader": {
     "cell_type": "code",
     "checksum": "a7fd8acdefd53d5babe1de9d27dcaa8d",
     "grade": true,
     "grade_id": "part_3_1_1",
     "locked": true,
     "points": 2,
     "schema_version": 3,
     "solution": false,
     "task": false
    }
   },
   "outputs": [
    {
     "name": "stdout",
     "output_type": "stream",
     "text": [
      "f(0) = 1.0\n",
      "f'(0) = 0.0\n"
     ]
    }
   ],
   "source": [
    "print('f(0) =', f(0))\n",
    "print(\"f'(0) =\", d_f(0))"
   ]
  },
  {
   "cell_type": "markdown",
   "metadata": {
    "deletable": false,
    "editable": false,
    "nbgrader": {
     "cell_type": "markdown",
     "checksum": "9768d13931680cd00bbeb0d914d7f9b8",
     "grade": false,
     "grade_id": "cell-aea21c19ae82273c",
     "locked": true,
     "schema_version": 3,
     "solution": false,
     "task": false
    }
   },
   "source": [
    "### Part 3.3\n",
    "\n",
    "Compute \n",
    "\n",
    "$$\\int_0^1 e^{-\\frac{x^2}{2}} dx$$\n",
    "\n",
    "with the formula $(*)$."
   ]
  },
  {
   "cell_type": "markdown",
   "metadata": {
    "deletable": false,
    "editable": false,
    "nbgrader": {
     "cell_type": "markdown",
     "checksum": "a40a7c91ce8bf907eb2ab976e8dfdcca",
     "grade": false,
     "grade_id": "cell-8d2acff7cb49c73c",
     "locked": true,
     "schema_version": 3,
     "solution": false,
     "task": false
    }
   },
   "source": [
    "Fill your answer into the variable `approximation`."
   ]
  },
  {
   "cell_type": "code",
   "execution_count": 7,
   "metadata": {
    "deletable": false,
    "nbgrader": {
     "cell_type": "code",
     "checksum": "1476fe55e3638417ee0046a097321e27",
     "grade": false,
     "grade_id": "quadrature",
     "locked": false,
     "schema_version": 3,
     "solution": true,
     "task": false
    }
   },
   "outputs": [],
   "source": [
    "# Hint: approximation = ...\n",
    "# ===== 請實做程式 =====\n",
    "approximation = alpha_1 * f(0) + alpha_2 * f(1) + alpha_3 * d_f(0)\n",
    "# ===================="
   ]
  },
  {
   "cell_type": "markdown",
   "metadata": {
    "deletable": false,
    "editable": false,
    "nbgrader": {
     "cell_type": "markdown",
     "checksum": "9a852ba0372f4b7b2dbce4f034ef2c00",
     "grade": false,
     "grade_id": "cell-404762cfaa2a3eb4",
     "locked": true,
     "schema_version": 3,
     "solution": false,
     "task": false
    }
   },
   "source": [
    "Run and check your answer. "
   ]
  },
  {
   "cell_type": "code",
   "execution_count": 8,
   "metadata": {
    "deletable": false,
    "editable": false,
    "nbgrader": {
     "cell_type": "code",
     "checksum": "abeb91faf85865cf7b2e9c14573245e3",
     "grade": true,
     "grade_id": "part_3_2",
     "locked": true,
     "points": 2,
     "schema_version": 3,
     "solution": false,
     "task": false
    }
   },
   "outputs": [
    {
     "name": "stdout",
     "output_type": "stream",
     "text": [
      "The result of the integral is 0.8688435532375445\n"
     ]
    }
   ],
   "source": [
    "print(\"The result of the integral is\", approximation)"
   ]
  },
  {
   "cell_type": "markdown",
   "metadata": {
    "deletable": false,
    "editable": false,
    "nbgrader": {
     "cell_type": "markdown",
     "checksum": "5cb627b5a91aa4f1e54d5f37dd15ee08",
     "grade": false,
     "grade_id": "cell-6663699f7a2fae8d",
     "locked": true,
     "schema_version": 3,
     "solution": false,
     "task": false
    }
   },
   "source": [
    "### Part 3.4 \n",
    "\n",
    "Compute \n",
    "\n",
    "$$\\int_0^1 e^{-\\frac{x^2}{2}} dx$$\n",
    "\n",
    "with Simpson's rule."
   ]
  },
  {
   "cell_type": "markdown",
   "metadata": {
    "deletable": false,
    "editable": false,
    "nbgrader": {
     "cell_type": "markdown",
     "checksum": "369c73b4d59f47bde0889e25e0304a91",
     "grade": false,
     "grade_id": "cell-cd19a4102f222a90",
     "locked": true,
     "schema_version": 3,
     "solution": false,
     "task": false
    }
   },
   "source": [
    "Implement Simpson's rule"
   ]
  },
  {
   "cell_type": "code",
   "execution_count": 9,
   "metadata": {
    "deletable": false,
    "nbgrader": {
     "cell_type": "code",
     "checksum": "f9817344e8c95a4fe1c5692f3f81bcdf",
     "grade": false,
     "grade_id": "cell-8b7a2ddbbd4f63f4",
     "locked": false,
     "schema_version": 3,
     "solution": true,
     "task": false
    }
   },
   "outputs": [],
   "source": [
    "def simpson(\n",
    "    f,\n",
    "    a,\n",
    "    b,\n",
    "    N=50\n",
    "):\n",
    "    '''\n",
    "    Parameters\n",
    "    ----------\n",
    "    f : function\n",
    "        Vectorized function of a single variable\n",
    "    a , b : numbers\n",
    "        Interval of integration [a,b]\n",
    "    N : (even) integer\n",
    "        Number of subintervals of [a,b]\n",
    "\n",
    "    Returns\n",
    "    -------\n",
    "    S : float\n",
    "        Approximation of the integral of f(x) from a to b using\n",
    "        Simpson's rule with N subintervals of equal length.\n",
    "    '''\n",
    "    # ===== 請實做程式 =====\n",
    "    if N % 2 == 1:\n",
    "        raise ValueError('N must be an even integer.')\n",
    "    \n",
    "    dx = (b-a) / N\n",
    "    x = np.linspace(a, b, N+1)\n",
    "    y = f(x)\n",
    "    S = dx / 3 * np.sum(y[0:-1:2] + 4 * y[1::2] + y[2::2])\n",
    "    \n",
    "    return S\n",
    "    # ===================="
   ]
  },
  {
   "cell_type": "markdown",
   "metadata": {
    "deletable": false,
    "editable": false,
    "nbgrader": {
     "cell_type": "markdown",
     "checksum": "3005fae69b32eeed0ba4ff3ad7daf6b8",
     "grade": false,
     "grade_id": "cell-c4df0c7062f912cb",
     "locked": true,
     "schema_version": 3,
     "solution": false,
     "task": false
    }
   },
   "source": [
    "Run and check your function."
   ]
  },
  {
   "cell_type": "code",
   "execution_count": 10,
   "metadata": {
    "deletable": false,
    "editable": false,
    "nbgrader": {
     "cell_type": "code",
     "checksum": "b8fcc018f09a815614f4ca02b9de79f6",
     "grade": true,
     "grade_id": "simpson",
     "locked": true,
     "points": 3,
     "schema_version": 3,
     "solution": false,
     "task": false
    }
   },
   "outputs": [
    {
     "name": "stdout",
     "output_type": "stream",
     "text": [
      "The result from Simpson's rule is 0.8556243929705796\n"
     ]
    }
   ],
   "source": [
    "S = simpson(f, 0, 1, N=50)\n",
    "print(\"The result from Simpson's rule is\", S)"
   ]
  },
  {
   "cell_type": "markdown",
   "metadata": {
    "deletable": false,
    "editable": false,
    "nbgrader": {
     "cell_type": "markdown",
     "checksum": "64507ef3b72e16c8c607e8bbccb42121",
     "grade": false,
     "grade_id": "cell-035a5b10cf15e173",
     "locked": true,
     "schema_version": 3,
     "solution": false,
     "task": false
    }
   },
   "source": [
    "### Part 3.5\n",
    "\n",
    "Compute \n",
    "\n",
    "$$\\int_0^1 e^{-\\frac{x^2}{2}} dx$$\n",
    "\n",
    "with the Gauss-Legendre formula using $n = 1$."
   ]
  },
  {
   "cell_type": "code",
   "execution_count": 11,
   "metadata": {
    "deletable": false,
    "nbgrader": {
     "cell_type": "code",
     "checksum": "ac66aa00828c478d5dd9db87b966f362",
     "grade": false,
     "grade_id": "cell-292dfe2cc8f7a96c",
     "locked": false,
     "schema_version": 3,
     "solution": true,
     "task": false
    }
   },
   "outputs": [],
   "source": [
    "def gauss(\n",
    "    f,\n",
    "    n,\n",
    "    a,\n",
    "    b\n",
    "):\n",
    "    '''\n",
    "    Parameters\n",
    "    ----------\n",
    "    f : function\n",
    "        Vectorized function of a single variable\n",
    "    n : integer\n",
    "        Number of points\n",
    "    a , b : numbers\n",
    "        Interval of integration [a,b]\n",
    "\n",
    "    Returns\n",
    "    -------\n",
    "    G : float\n",
    "        Approximation of the integral of f(x) from a to b using the\n",
    "        Gaussian–Legendre quadrature rule with N points.\n",
    "    '''\n",
    "    # ===== 請實做程式 =====\n",
    "    [x,w] = p_roots(n)\n",
    "    G = 0.5*(b-a)*sum(w*f(0.5*(b-a)*x + 0.5*(b+a)))\n",
    "    # ====================\n",
    "\n",
    "    return G"
   ]
  },
  {
   "cell_type": "markdown",
   "metadata": {
    "deletable": false,
    "editable": false,
    "nbgrader": {
     "cell_type": "markdown",
     "checksum": "715b9719c88d42ff5ca5413eb829dc2f",
     "grade": false,
     "grade_id": "cell-74a82b76e6f1a6c2",
     "locked": true,
     "schema_version": 3,
     "solution": false,
     "task": false
    }
   },
   "source": [
    "Run and check your function."
   ]
  },
  {
   "cell_type": "code",
   "execution_count": 12,
   "metadata": {
    "deletable": false,
    "editable": false,
    "nbgrader": {
     "cell_type": "code",
     "checksum": "8bb0e1e7e282f88885d7981e78bbcc32",
     "grade": true,
     "grade_id": "Gauss-Legendre",
     "locked": true,
     "points": 3,
     "schema_version": 3,
     "solution": false,
     "task": false
    }
   },
   "outputs": [
    {
     "name": "stdout",
     "output_type": "stream",
     "text": [
      "The result from Gauss-Legendre is 0.8824969025845955\n"
     ]
    }
   ],
   "source": [
    "G = gauss(f, 1, 0, 1)\n",
    "print(\"The result from Gauss-Legendre is\", G)"
   ]
  },
  {
   "cell_type": "markdown",
   "metadata": {
    "deletable": false,
    "editable": false,
    "nbgrader": {
     "cell_type": "markdown",
     "checksum": "7d59a2e3e7cf5ad04aa1b8290ccceecc",
     "grade": false,
     "grade_id": "cell-aa644a1a356c4872",
     "locked": true,
     "points": 4,
     "schema_version": 3,
     "solution": false,
     "task": true
    }
   },
   "source": [
    "### Part 3.6\n",
    "\n",
    "Compare the obtained results of three methods above and write down your observation. You can use either code or markdown to depict."
   ]
  },
  {
   "cell_type": "markdown",
   "metadata": {},
   "source": [
    "> Please write down your answer here."
   ]
  },
  {
   "cell_type": "code",
   "execution_count": 18,
   "metadata": {},
   "outputs": [
    {
     "name": "stdout",
     "output_type": "stream",
     "text": [
      "Gaussian: 0.8824969025845955 ,Simpson: 0.8556243929705796 ,Approximation: 0.8688435532375445\n"
     ]
    },
    {
     "data": {
      "text/plain": [
       "(0.026872509614015883, 0.013219160266964902, 0.01365334934705098)"
      ]
     },
     "execution_count": 18,
     "metadata": {},
     "output_type": "execute_result"
    }
   ],
   "source": [
    "error_1 = abs(G-S)\n",
    "error_2 = abs(approximation-S)\n",
    "error_3 = abs(G-approximation)\n",
    "\n",
    "print('Gaussian:',G, ',Simpson:',S, ',Approximation:',approximation)\n",
    "error_1, error_2, error_3"
   ]
  },
  {
   "cell_type": "markdown",
   "metadata": {},
   "source": [
    "The error between Gaussian-Legendre formula and Simpson's rule is the largest.\\\n",
    "The error between the approximation and Simpson's rule is the smallest.\\\n",
    "We can predict that the exact value is between 0.8556243929705796 and 0.8688435532375445."
   ]
  },
  {
   "cell_type": "code",
   "execution_count": null,
   "metadata": {},
   "outputs": [],
   "source": []
  }
 ],
 "metadata": {
  "jupytext": {
   "encoding": "# -*- coding: utf-8 -*-",
   "text_representation": {
    "extension": ".py",
    "format_name": "light",
    "format_version": "1.4",
    "jupytext_version": "1.2.3"
   }
  },
  "kernelspec": {
   "display_name": "Python 3",
   "language": "python",
   "name": "python3"
  },
  "language_info": {
   "codemirror_mode": {
    "name": "ipython",
    "version": 3
   },
   "file_extension": ".py",
   "mimetype": "text/x-python",
   "name": "python",
   "nbconvert_exporter": "python",
   "pygments_lexer": "ipython3",
   "version": "3.7.3"
  }
 },
 "nbformat": 4,
 "nbformat_minor": 2
}
