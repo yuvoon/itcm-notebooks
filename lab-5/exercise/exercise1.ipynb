{
 "cells": [
  {
   "cell_type": "markdown",
   "metadata": {},
   "source": [
    "# Lab 5\n",
    "\n",
    "1. 提交作業之前，建議可以先點選上方工具列的**Kernel**，再選擇**Restart & Run All**，檢查一下是否程式跑起來都沒有問題，最後記得儲存。\n",
    "2. 請先填上下方的姓名(name)及學號(stduent_id)再開始作答，例如：\n",
    "```python\n",
    "name = \"我的名字\"\n",
    "student_id= \"B06201000\"\n",
    "```\n",
    "3. 演算法的實作可以參考[lab-5](https://yuanyuyuan.github.io/itcm/lab-5.html), 有任何問題歡迎找助教詢問。\n",
    "4. **Deadline: 12/11(Wed.)**"
   ]
  },
  {
   "cell_type": "code",
   "execution_count": 1,
   "metadata": {},
   "outputs": [],
   "source": [
    "name = \"黃宇文\"\n",
    "student_id = \"B06201029\""
   ]
  },
  {
   "cell_type": "markdown",
   "metadata": {},
   "source": [
    "---"
   ]
  },
  {
   "cell_type": "markdown",
   "metadata": {
    "deletable": false,
    "editable": false,
    "nbgrader": {
     "cell_type": "markdown",
     "checksum": "3d27a62e3ca741e00051ee84fa6c28ca",
     "grade": false,
     "grade_id": "cell-b9265ecf323311bf",
     "locked": true,
     "schema_version": 3,
     "solution": false,
     "task": false
    }
   },
   "source": [
    "# Exercise 1\n",
    "---\n",
    "### An $m \\times m$ _Hilbert matrix_ $H_m$ has entries $h_{ij} = 1/(i+j-1)$ for $ 1 \\leq i, j \\leq m$, and so it has the form\n",
    "### $$\\left [\n",
    "   \\begin{matrix}\n",
    "     1 & 1/2 & 1/3 & \\dots \\\\\n",
    "     1/2 & 1/3 & 1/4 & \\dots \\\\\n",
    "     1/3 & 1/4 & 1/5 & \\dots \\\\\n",
    "     \\vdots      & \\vdots      & \\vdots & \\ddots \n",
    "   \\end{matrix}\n",
    "  \\right ].$$"
   ]
  },
  {
   "cell_type": "code",
   "execution_count": 2,
   "metadata": {
    "deletable": false,
    "editable": false,
    "nbgrader": {
     "cell_type": "code",
     "checksum": "149a9492357fbd44876a9cf5f010b139",
     "grade": false,
     "grade_id": "cell-75a3ea81cc9a3297",
     "locked": true,
     "schema_version": 3,
     "solution": false,
     "task": false
    }
   },
   "outputs": [],
   "source": [
    "import numpy as np\n",
    "from numpy import linalg as LA\n",
    "import matplotlib.pyplot as plt"
   ]
  },
  {
   "cell_type": "markdown",
   "metadata": {
    "deletable": false,
    "editable": false,
    "nbgrader": {
     "cell_type": "markdown",
     "checksum": "e70289dd16dc2a9ba59227c9de8c5a73",
     "grade": false,
     "grade_id": "cell-a82b84a767153ac6",
     "locked": true,
     "schema_version": 3,
     "solution": false,
     "task": false
    }
   },
   "source": [
    "## Part 1\n",
    "### Generate the Hilbert matrix of order $m$, for $m=2,3,\\ldots, 12$.\n",
    "### For each $m$, compute the condition number of $H_{m}$,  _ie_ , in $p$-norm for $p=1$ and $2$, and make a plot of the results."
   ]
  },
  {
   "cell_type": "markdown",
   "metadata": {
    "deletable": false,
    "editable": false,
    "nbgrader": {
     "cell_type": "markdown",
     "checksum": "0b2ed0d33291ba969099fd77a129178e",
     "grade": false,
     "grade_id": "cell-eeb4bdd4688d7f44",
     "locked": true,
     "schema_version": 3,
     "solution": false,
     "task": false
    }
   },
   "source": [
    "---\n",
    "### Part 1.1 \n",
    "\n",
    "Define the function of Hilbert matrix"
   ]
  },
  {
   "cell_type": "code",
   "execution_count": 3,
   "metadata": {
    "deletable": false,
    "nbgrader": {
     "cell_type": "code",
     "checksum": "7b8988fb8c8d20363d3ebf732f2e7f63",
     "grade": false,
     "grade_id": "cell-6348010309b08528",
     "locked": false,
     "schema_version": 3,
     "solution": true,
     "task": false
    }
   },
   "outputs": [],
   "source": [
    "def hilbert_matrix(m):\n",
    "    '''\n",
    "    Return:\n",
    "        2D np.array, the Hildert Matrix of order m\n",
    "    '''\n",
    "    # ===== 請實做程式 =====\\\n",
    "    \n",
    "    H=np.zeros((m,m))\n",
    "    for i in range(m):\n",
    "        for j in range(m):\n",
    "            H[i][j]=1/(i+j+1)\n",
    "    return H\n",
    "    # ===================="
   ]
  },
  {
   "cell_type": "markdown",
   "metadata": {
    "deletable": false,
    "editable": false,
    "nbgrader": {
     "cell_type": "markdown",
     "checksum": "6ca6dc9dcb252c9f64d5aa8beaf18c2b",
     "grade": false,
     "grade_id": "cell-c87a03137ad4faa2",
     "locked": true,
     "schema_version": 3,
     "solution": false,
     "task": false
    }
   },
   "source": [
    "Test your function."
   ]
  },
  {
   "cell_type": "code",
   "execution_count": 4,
   "metadata": {
    "deletable": false,
    "editable": false,
    "nbgrader": {
     "cell_type": "code",
     "checksum": "135d3906e4c9da1d159336b814148630",
     "grade": true,
     "grade_id": "hilbert_matrix",
     "locked": true,
     "points": 2,
     "schema_version": 3,
     "solution": false,
     "task": false
    }
   },
   "outputs": [
    {
     "name": "stdout",
     "output_type": "stream",
     "text": [
      "H_2:\n",
      " [[1.         0.5       ]\n",
      " [0.5        0.33333333]]\n"
     ]
    }
   ],
   "source": [
    "print('H_2:\\n', hilbert_matrix(2))"
   ]
  },
  {
   "cell_type": "markdown",
   "metadata": {
    "deletable": false,
    "editable": false,
    "nbgrader": {
     "cell_type": "markdown",
     "checksum": "75eec03e56586e1e29a2af040fba54ca",
     "grade": false,
     "grade_id": "cell-fe230769be59cf72",
     "locked": true,
     "schema_version": 3,
     "solution": false,
     "task": false
    }
   },
   "source": [
    "---\n",
    "### Part 1.2\n",
    "\n",
    "Collect all Hilbert matrices into the list `H_m` for m = 2, 3, ..., 12.\n"
   ]
  },
  {
   "cell_type": "code",
   "execution_count": 5,
   "metadata": {
    "deletable": false,
    "nbgrader": {
     "cell_type": "code",
     "checksum": "1df27af349d5486c3fdfb4608fce93a8",
     "grade": false,
     "grade_id": "cell-c11389895a65fdfe",
     "locked": false,
     "schema_version": 3,
     "solution": true,
     "task": false
    }
   },
   "outputs": [],
   "source": [
    "H_m = []\n",
    "# ===== 請實做程式 =====\n",
    "for m in range(2,13):\n",
    "    H = hilbert_matrix(m)\n",
    "    H_m.append(H)\n",
    "# ===================="
   ]
  },
  {
   "cell_type": "markdown",
   "metadata": {
    "deletable": false,
    "editable": false,
    "nbgrader": {
     "cell_type": "markdown",
     "checksum": "66e3bef152677e07a91fdd0e4fdda76c",
     "grade": false,
     "grade_id": "cell-13d855df9096e2e4",
     "locked": true,
     "schema_version": 3,
     "solution": false,
     "task": false
    }
   },
   "source": [
    "Check your Hilbert matrix list."
   ]
  },
  {
   "cell_type": "code",
   "execution_count": 6,
   "metadata": {
    "deletable": false,
    "editable": false,
    "nbgrader": {
     "cell_type": "code",
     "checksum": "87f0945ce6943764127acb004f0e09f3",
     "grade": true,
     "grade_id": "hilbert_matrices",
     "locked": true,
     "points": 1,
     "schema_version": 3,
     "solution": false,
     "task": false
    }
   },
   "outputs": [
    {
     "name": "stdout",
     "output_type": "stream",
     "text": [
      "H_2:\n",
      "[[1.         0.5       ]\n",
      " [0.5        0.33333333]]\n",
      "\n",
      "H_3:\n",
      "[[1.         0.5        0.33333333]\n",
      " [0.5        0.33333333 0.25      ]\n",
      " [0.33333333 0.25       0.2       ]]\n",
      "\n",
      "H_4:\n",
      "[[1.         0.5        0.33333333 0.25      ]\n",
      " [0.5        0.33333333 0.25       0.2       ]\n",
      " [0.33333333 0.25       0.2        0.16666667]\n",
      " [0.25       0.2        0.16666667 0.14285714]]\n",
      "\n",
      "H_5:\n",
      "[[1.         0.5        0.33333333 0.25       0.2       ]\n",
      " [0.5        0.33333333 0.25       0.2        0.16666667]\n",
      " [0.33333333 0.25       0.2        0.16666667 0.14285714]\n",
      " [0.25       0.2        0.16666667 0.14285714 0.125     ]\n",
      " [0.2        0.16666667 0.14285714 0.125      0.11111111]]\n",
      "\n",
      "H_6:\n",
      "[[1.         0.5        0.33333333 0.25       0.2        0.16666667]\n",
      " [0.5        0.33333333 0.25       0.2        0.16666667 0.14285714]\n",
      " [0.33333333 0.25       0.2        0.16666667 0.14285714 0.125     ]\n",
      " [0.25       0.2        0.16666667 0.14285714 0.125      0.11111111]\n",
      " [0.2        0.16666667 0.14285714 0.125      0.11111111 0.1       ]\n",
      " [0.16666667 0.14285714 0.125      0.11111111 0.1        0.09090909]]\n",
      "\n",
      "H_7:\n",
      "[[1.         0.5        0.33333333 0.25       0.2        0.16666667\n",
      "  0.14285714]\n",
      " [0.5        0.33333333 0.25       0.2        0.16666667 0.14285714\n",
      "  0.125     ]\n",
      " [0.33333333 0.25       0.2        0.16666667 0.14285714 0.125\n",
      "  0.11111111]\n",
      " [0.25       0.2        0.16666667 0.14285714 0.125      0.11111111\n",
      "  0.1       ]\n",
      " [0.2        0.16666667 0.14285714 0.125      0.11111111 0.1\n",
      "  0.09090909]\n",
      " [0.16666667 0.14285714 0.125      0.11111111 0.1        0.09090909\n",
      "  0.08333333]\n",
      " [0.14285714 0.125      0.11111111 0.1        0.09090909 0.08333333\n",
      "  0.07692308]]\n",
      "\n",
      "H_8:\n",
      "[[1.         0.5        0.33333333 0.25       0.2        0.16666667\n",
      "  0.14285714 0.125     ]\n",
      " [0.5        0.33333333 0.25       0.2        0.16666667 0.14285714\n",
      "  0.125      0.11111111]\n",
      " [0.33333333 0.25       0.2        0.16666667 0.14285714 0.125\n",
      "  0.11111111 0.1       ]\n",
      " [0.25       0.2        0.16666667 0.14285714 0.125      0.11111111\n",
      "  0.1        0.09090909]\n",
      " [0.2        0.16666667 0.14285714 0.125      0.11111111 0.1\n",
      "  0.09090909 0.08333333]\n",
      " [0.16666667 0.14285714 0.125      0.11111111 0.1        0.09090909\n",
      "  0.08333333 0.07692308]\n",
      " [0.14285714 0.125      0.11111111 0.1        0.09090909 0.08333333\n",
      "  0.07692308 0.07142857]\n",
      " [0.125      0.11111111 0.1        0.09090909 0.08333333 0.07692308\n",
      "  0.07142857 0.06666667]]\n",
      "\n",
      "H_9:\n",
      "[[1.         0.5        0.33333333 0.25       0.2        0.16666667\n",
      "  0.14285714 0.125      0.11111111]\n",
      " [0.5        0.33333333 0.25       0.2        0.16666667 0.14285714\n",
      "  0.125      0.11111111 0.1       ]\n",
      " [0.33333333 0.25       0.2        0.16666667 0.14285714 0.125\n",
      "  0.11111111 0.1        0.09090909]\n",
      " [0.25       0.2        0.16666667 0.14285714 0.125      0.11111111\n",
      "  0.1        0.09090909 0.08333333]\n",
      " [0.2        0.16666667 0.14285714 0.125      0.11111111 0.1\n",
      "  0.09090909 0.08333333 0.07692308]\n",
      " [0.16666667 0.14285714 0.125      0.11111111 0.1        0.09090909\n",
      "  0.08333333 0.07692308 0.07142857]\n",
      " [0.14285714 0.125      0.11111111 0.1        0.09090909 0.08333333\n",
      "  0.07692308 0.07142857 0.06666667]\n",
      " [0.125      0.11111111 0.1        0.09090909 0.08333333 0.07692308\n",
      "  0.07142857 0.06666667 0.0625    ]\n",
      " [0.11111111 0.1        0.09090909 0.08333333 0.07692308 0.07142857\n",
      "  0.06666667 0.0625     0.05882353]]\n",
      "\n",
      "H_10:\n",
      "[[1.         0.5        0.33333333 0.25       0.2        0.16666667\n",
      "  0.14285714 0.125      0.11111111 0.1       ]\n",
      " [0.5        0.33333333 0.25       0.2        0.16666667 0.14285714\n",
      "  0.125      0.11111111 0.1        0.09090909]\n",
      " [0.33333333 0.25       0.2        0.16666667 0.14285714 0.125\n",
      "  0.11111111 0.1        0.09090909 0.08333333]\n",
      " [0.25       0.2        0.16666667 0.14285714 0.125      0.11111111\n",
      "  0.1        0.09090909 0.08333333 0.07692308]\n",
      " [0.2        0.16666667 0.14285714 0.125      0.11111111 0.1\n",
      "  0.09090909 0.08333333 0.07692308 0.07142857]\n",
      " [0.16666667 0.14285714 0.125      0.11111111 0.1        0.09090909\n",
      "  0.08333333 0.07692308 0.07142857 0.06666667]\n",
      " [0.14285714 0.125      0.11111111 0.1        0.09090909 0.08333333\n",
      "  0.07692308 0.07142857 0.06666667 0.0625    ]\n",
      " [0.125      0.11111111 0.1        0.09090909 0.08333333 0.07692308\n",
      "  0.07142857 0.06666667 0.0625     0.05882353]\n",
      " [0.11111111 0.1        0.09090909 0.08333333 0.07692308 0.07142857\n",
      "  0.06666667 0.0625     0.05882353 0.05555556]\n",
      " [0.1        0.09090909 0.08333333 0.07692308 0.07142857 0.06666667\n",
      "  0.0625     0.05882353 0.05555556 0.05263158]]\n",
      "\n",
      "H_11:\n",
      "[[1.         0.5        0.33333333 0.25       0.2        0.16666667\n",
      "  0.14285714 0.125      0.11111111 0.1        0.09090909]\n",
      " [0.5        0.33333333 0.25       0.2        0.16666667 0.14285714\n",
      "  0.125      0.11111111 0.1        0.09090909 0.08333333]\n",
      " [0.33333333 0.25       0.2        0.16666667 0.14285714 0.125\n",
      "  0.11111111 0.1        0.09090909 0.08333333 0.07692308]\n",
      " [0.25       0.2        0.16666667 0.14285714 0.125      0.11111111\n",
      "  0.1        0.09090909 0.08333333 0.07692308 0.07142857]\n",
      " [0.2        0.16666667 0.14285714 0.125      0.11111111 0.1\n",
      "  0.09090909 0.08333333 0.07692308 0.07142857 0.06666667]\n",
      " [0.16666667 0.14285714 0.125      0.11111111 0.1        0.09090909\n",
      "  0.08333333 0.07692308 0.07142857 0.06666667 0.0625    ]\n",
      " [0.14285714 0.125      0.11111111 0.1        0.09090909 0.08333333\n",
      "  0.07692308 0.07142857 0.06666667 0.0625     0.05882353]\n",
      " [0.125      0.11111111 0.1        0.09090909 0.08333333 0.07692308\n",
      "  0.07142857 0.06666667 0.0625     0.05882353 0.05555556]\n",
      " [0.11111111 0.1        0.09090909 0.08333333 0.07692308 0.07142857\n",
      "  0.06666667 0.0625     0.05882353 0.05555556 0.05263158]\n",
      " [0.1        0.09090909 0.08333333 0.07692308 0.07142857 0.06666667\n",
      "  0.0625     0.05882353 0.05555556 0.05263158 0.05      ]\n",
      " [0.09090909 0.08333333 0.07692308 0.07142857 0.06666667 0.0625\n",
      "  0.05882353 0.05555556 0.05263158 0.05       0.04761905]]\n",
      "\n",
      "H_12:\n",
      "[[1.         0.5        0.33333333 0.25       0.2        0.16666667\n",
      "  0.14285714 0.125      0.11111111 0.1        0.09090909 0.08333333]\n",
      " [0.5        0.33333333 0.25       0.2        0.16666667 0.14285714\n",
      "  0.125      0.11111111 0.1        0.09090909 0.08333333 0.07692308]\n",
      " [0.33333333 0.25       0.2        0.16666667 0.14285714 0.125\n",
      "  0.11111111 0.1        0.09090909 0.08333333 0.07692308 0.07142857]\n",
      " [0.25       0.2        0.16666667 0.14285714 0.125      0.11111111\n",
      "  0.1        0.09090909 0.08333333 0.07692308 0.07142857 0.06666667]\n",
      " [0.2        0.16666667 0.14285714 0.125      0.11111111 0.1\n",
      "  0.09090909 0.08333333 0.07692308 0.07142857 0.06666667 0.0625    ]\n",
      " [0.16666667 0.14285714 0.125      0.11111111 0.1        0.09090909\n",
      "  0.08333333 0.07692308 0.07142857 0.06666667 0.0625     0.05882353]\n",
      " [0.14285714 0.125      0.11111111 0.1        0.09090909 0.08333333\n",
      "  0.07692308 0.07142857 0.06666667 0.0625     0.05882353 0.05555556]\n",
      " [0.125      0.11111111 0.1        0.09090909 0.08333333 0.07692308\n",
      "  0.07142857 0.06666667 0.0625     0.05882353 0.05555556 0.05263158]\n",
      " [0.11111111 0.1        0.09090909 0.08333333 0.07692308 0.07142857\n",
      "  0.06666667 0.0625     0.05882353 0.05555556 0.05263158 0.05      ]\n",
      " [0.1        0.09090909 0.08333333 0.07692308 0.07142857 0.06666667\n",
      "  0.0625     0.05882353 0.05555556 0.05263158 0.05       0.04761905]\n",
      " [0.09090909 0.08333333 0.07692308 0.07142857 0.06666667 0.0625\n",
      "  0.05882353 0.05555556 0.05263158 0.05       0.04761905 0.04545455]\n",
      " [0.08333333 0.07692308 0.07142857 0.06666667 0.0625     0.05882353\n",
      "  0.05555556 0.05263158 0.05       0.04761905 0.04545455 0.04347826]]\n",
      "\n"
     ]
    }
   ],
   "source": [
    "for i in range(len(H_m)):\n",
    "    print('H_%d:' % (i+2))\n",
    "    print(H_m[i])\n",
    "    print()"
   ]
  },
  {
   "cell_type": "markdown",
   "metadata": {
    "deletable": false,
    "editable": false,
    "nbgrader": {
     "cell_type": "markdown",
     "checksum": "459e250868548a361eff39367e6748ae",
     "grade": false,
     "grade_id": "cell-764bb67cefd181eb",
     "locked": true,
     "schema_version": 3,
     "solution": false,
     "task": false
    }
   },
   "source": [
    "---\n",
    "### Part 1.3\n",
    "\n",
    "Plot the condition number of $H_m$ for $m=2,3,\\ldots, 12$"
   ]
  },
  {
   "cell_type": "markdown",
   "metadata": {
    "deletable": false,
    "editable": false,
    "nbgrader": {
     "cell_type": "markdown",
     "checksum": "21e0a209a93c7faf917c8e892a0c59bd",
     "grade": false,
     "grade_id": "cell-453503cd7d6fd092",
     "locked": true,
     "schema_version": 3,
     "solution": false,
     "task": false
    }
   },
   "source": [
    "Collect all condition numbers in 1-norm of `H_m` into a list `one_norm`"
   ]
  },
  {
   "cell_type": "code",
   "execution_count": 7,
   "metadata": {
    "deletable": false,
    "nbgrader": {
     "cell_type": "code",
     "checksum": "8b302ee93824b89272e3e05d58bac206",
     "grade": false,
     "grade_id": "cell-39bec5364f330373",
     "locked": false,
     "schema_version": 3,
     "solution": true,
     "task": false
    }
   },
   "outputs": [],
   "source": [
    "one_norm = []\n",
    "# ===== 請實做程式 =====\n",
    "for m in range(2,13):\n",
    "    one_norm.append(np.sum(hilbert_matrix(m)))\n",
    "# ===================="
   ]
  },
  {
   "cell_type": "code",
   "execution_count": 8,
   "metadata": {
    "deletable": false,
    "editable": false,
    "nbgrader": {
     "cell_type": "code",
     "checksum": "bdd47249d78108bc7116831cb796e745",
     "grade": true,
     "grade_id": "kappa_one_norm",
     "locked": true,
     "points": 1,
     "schema_version": 3,
     "solution": false,
     "task": false
    }
   },
   "outputs": [
    {
     "name": "stdout",
     "output_type": "stream",
     "text": [
      "one_norm:\n",
      " [2.3333333333333335, 3.6999999999999997, 5.076190476190476, 6.456349206349206, 7.838528138528138, 9.22187257187257, 10.605949605949606, 11.99051683610507, 13.375428063508556, 14.76058991747846, 16.145939989027887]\n"
     ]
    }
   ],
   "source": [
    "print('one_norm:\\n', one_norm)"
   ]
  },
  {
   "cell_type": "code",
   "execution_count": 9,
   "metadata": {
    "deletable": false,
    "editable": false,
    "nbgrader": {
     "cell_type": "code",
     "checksum": "ee3465cd2e2f0b5ba5de3fa336c97211",
     "grade": false,
     "grade_id": "cell-8f126f4f64f3e008",
     "locked": true,
     "schema_version": 3,
     "solution": false,
     "task": false
    }
   },
   "outputs": [
    {
     "data": {
      "image/png": "[encoded data removed]",
      "text/plain": [
       "<Figure size 432x288 with 1 Axes>"
      ]
     },
     "metadata": {
      "needs_background": "light"
     },
     "output_type": "display_data"
    }
   ],
   "source": [
    "plt.plot(range(2,13), one_norm)\n",
    "plt.xlabel('m')\n",
    "plt.title(r'$\\kappa(H_m)$ in 1-norm')\n",
    "plt.show()"
   ]
  },
  {
   "cell_type": "markdown",
   "metadata": {
    "deletable": false,
    "editable": false,
    "nbgrader": {
     "cell_type": "markdown",
     "checksum": "45eedf0fe99f08080bcf5d49e265c48d",
     "grade": false,
     "grade_id": "cell-6dbb31be36f86dfa",
     "locked": true,
     "schema_version": 3,
     "solution": false,
     "task": false
    }
   },
   "source": [
    "Collect all condition numbers in 2-norm of `H_m` into a list `two_norm`"
   ]
  },
  {
   "cell_type": "code",
   "execution_count": 10,
   "metadata": {
    "deletable": false,
    "nbgrader": {
     "cell_type": "code",
     "checksum": "a363d4a0e70cb70049503eb6724137ab",
     "grade": false,
     "grade_id": "cell-339ecd99f17c23f3",
     "locked": false,
     "schema_version": 3,
     "solution": true,
     "task": false
    }
   },
   "outputs": [],
   "source": [
    "two_norm = []\n",
    "# ===== 請實做程式 =====\n",
    "for m in range(2,13):\n",
    "    two_norm.append(LA.norm(hilbert_matrix(m), 'fro'))\n",
    "# ===================="
   ]
  },
  {
   "cell_type": "code",
   "execution_count": 11,
   "metadata": {
    "deletable": false,
    "editable": false,
    "nbgrader": {
     "cell_type": "code",
     "checksum": "8a389b4518109d7ae6b73fbeeb89431d",
     "grade": true,
     "grade_id": "kappa_two_norm",
     "locked": true,
     "points": 1,
     "schema_version": 3,
     "solution": false,
     "task": false
    }
   },
   "outputs": [
    {
     "name": "stdout",
     "output_type": "stream",
     "text": [
      "two_norm:\n",
      " [1.2692955176439846, 1.413624183909335, 1.5097340998183075, 1.5809062632720223, 1.63702239330239, 1.6831324888435923, 1.7221431395612752, 1.755871909716653, 1.7855271226510334, 1.8119508009081233, 1.835752037381468]\n"
     ]
    }
   ],
   "source": [
    "print('two_norm:\\n', two_norm)"
   ]
  },
  {
   "cell_type": "code",
   "execution_count": 12,
   "metadata": {
    "deletable": false,
    "editable": false,
    "nbgrader": {
     "cell_type": "code",
     "checksum": "a56d196c7a88b165d7e4b21fc34bbbbf",
     "grade": false,
     "grade_id": "cell-95d72557ef4eee5a",
     "locked": true,
     "schema_version": 3,
     "solution": false,
     "task": false
    }
   },
   "outputs": [
    {
     "data": {
      "image/png": "[encoded data removed]",
      "text/plain": [
       "<Figure size 432x288 with 1 Axes>"
      ]
     },
     "metadata": {
      "needs_background": "light"
     },
     "output_type": "display_data"
    }
   ],
   "source": [
    "plt.plot(range(2,13), two_norm)\n",
    "plt.xlabel('m')\n",
    "plt.title(r'$\\kappa(H_m)$ in 2-norm')\n",
    "plt.show()"
   ]
  },
  {
   "cell_type": "markdown",
   "metadata": {
    "deletable": false,
    "editable": false,
    "nbgrader": {
     "cell_type": "markdown",
     "checksum": "ea45c98b77014494cf781a34115d0cac",
     "grade": false,
     "grade_id": "cell-535cd89483eda331",
     "locked": true,
     "schema_version": 3,
     "solution": false,
     "task": false
    }
   },
   "source": [
    "---\n",
    "## Part 2 \n",
    "\n",
    "### Now generate the $m$-vector $b_m = H_{m} x$ also, where $x$ is the $m$-vector with all of its components equal to $1$.\n",
    "\n",
    "### Use Gaussian elimination to solve the resulting linear system $H_{m} x = b_m$ with $H_{m}$ and $b$ given above, obtaining an approximate solution $\\tilde{x}$."
   ]
  },
  {
   "cell_type": "markdown",
   "metadata": {
    "deletable": false,
    "editable": false,
    "nbgrader": {
     "cell_type": "markdown",
     "checksum": "11f038b8fe4cfcab0b9e0e736a383eb5",
     "grade": false,
     "grade_id": "cell-c4cbdd2fcf7f0f47",
     "locked": true,
     "schema_version": 3,
     "solution": false,
     "task": false
    }
   },
   "source": [
    "### Part 2.1\n",
    "\n",
    "Construct the $m$-vector $b_m$ for $m = 2, 3, \\dots, 12$. Store all 1D `np.array` $b_m$ into the list `b_m`."
   ]
  },
  {
   "cell_type": "code",
   "execution_count": 13,
   "metadata": {
    "deletable": false,
    "nbgrader": {
     "cell_type": "code",
     "checksum": "1be3991e02193decb2de9fc0a85a738a",
     "grade": false,
     "grade_id": "cell-763795fa868ee528",
     "locked": false,
     "schema_version": 3,
     "solution": true,
     "task": false
    }
   },
   "outputs": [],
   "source": [
    "'''\n",
    "Hint:\n",
    "    b_m = ?\n",
    "'''\n",
    "# ===== 請實做程式 =====\n",
    "b_m = []\n",
    "\n",
    "for i in range(len(H_m)):\n",
    "    b_m.append(H_m[i] @ np.ones((i+2,1)))\n",
    "# ===================="
   ]
  },
  {
   "cell_type": "markdown",
   "metadata": {
    "deletable": false,
    "editable": false,
    "nbgrader": {
     "cell_type": "markdown",
     "checksum": "b73394a2f2cb2818ee569201bde49b9e",
     "grade": false,
     "grade_id": "cell-e01001131a2f8bea",
     "locked": true,
     "schema_version": 3,
     "solution": false,
     "task": false
    }
   },
   "source": [
    "Print `b_m`"
   ]
  },
  {
   "cell_type": "code",
   "execution_count": 14,
   "metadata": {
    "deletable": false,
    "editable": false,
    "nbgrader": {
     "cell_type": "code",
     "checksum": "9c625e00eff67245c997c0d3b02ed56f",
     "grade": true,
     "grade_id": "b_m",
     "locked": true,
     "points": 1,
     "schema_version": 3,
     "solution": false,
     "task": false
    }
   },
   "outputs": [
    {
     "name": "stdout",
     "output_type": "stream",
     "text": [
      "b_2:\n",
      "[[1.5       ]\n",
      " [0.83333333]]\n",
      "\n",
      "b_3:\n",
      "[[1.83333333]\n",
      " [1.08333333]\n",
      " [0.78333333]]\n",
      "\n",
      "b_4:\n",
      "[[2.08333333]\n",
      " [1.28333333]\n",
      " [0.95      ]\n",
      " [0.75952381]]\n",
      "\n",
      "b_5:\n",
      "[[2.28333333]\n",
      " [1.45      ]\n",
      " [1.09285714]\n",
      " [0.88452381]\n",
      " [0.74563492]]\n",
      "\n",
      "b_6:\n",
      "[[2.45      ]\n",
      " [1.59285714]\n",
      " [1.21785714]\n",
      " [0.99563492]\n",
      " [0.84563492]\n",
      " [0.73654401]]\n",
      "\n",
      "b_7:\n",
      "[[2.59285714]\n",
      " [1.71785714]\n",
      " [1.32896825]\n",
      " [1.09563492]\n",
      " [0.93654401]\n",
      " [0.81987734]\n",
      " [0.73013376]]\n",
      "\n",
      "b_8:\n",
      "[[2.71785714]\n",
      " [1.82896825]\n",
      " [1.42896825]\n",
      " [1.18654401]\n",
      " [1.01987734]\n",
      " [0.89680042]\n",
      " [0.80156233]\n",
      " [0.72537185]]\n",
      "\n",
      "b_9:\n",
      "[[2.82896825]\n",
      " [1.92896825]\n",
      " [1.51987734]\n",
      " [1.26987734]\n",
      " [1.09680042]\n",
      " [0.96822899]\n",
      " [0.86822899]\n",
      " [0.78787185]\n",
      " [0.72169538]]\n",
      "\n",
      "b_10:\n",
      "[[2.92896825]\n",
      " [2.01987734]\n",
      " [1.60321068]\n",
      " [1.34680042]\n",
      " [1.16822899]\n",
      " [1.03489566]\n",
      " [0.93072899]\n",
      " [0.84669538]\n",
      " [0.77725094]\n",
      " [0.7187714 ]]\n",
      "\n",
      "b_11:\n",
      "[[3.01987734]\n",
      " [2.10321068]\n",
      " [1.68013376]\n",
      " [1.41822899]\n",
      " [1.23489566]\n",
      " [1.09739566]\n",
      " [0.98955252]\n",
      " [0.90225094]\n",
      " [0.82988251]\n",
      " [0.7687714 ]\n",
      " [0.71639045]]\n",
      "\n",
      "b_12:\n",
      "[[3.10321068]\n",
      " [2.18013376]\n",
      " [1.75156233]\n",
      " [1.48489566]\n",
      " [1.29739566]\n",
      " [1.15621919]\n",
      " [1.04510808]\n",
      " [0.95488251]\n",
      " [0.87988251]\n",
      " [0.81639045]\n",
      " [0.761845  ]\n",
      " [0.71441417]]\n",
      "\n"
     ]
    }
   ],
   "source": [
    "for i in range(len(b_m)):\n",
    "    print('b_%d:' % (i+2))\n",
    "    print(b_m[i])\n",
    "    print()"
   ]
  },
  {
   "cell_type": "markdown",
   "metadata": {
    "deletable": false,
    "editable": false,
    "nbgrader": {
     "cell_type": "markdown",
     "checksum": "a95d2a97225d3e8b62942cd3f1e99615",
     "grade": false,
     "grade_id": "cell-fa7d19b247d05217",
     "locked": true,
     "schema_version": 3,
     "solution": false,
     "task": false
    }
   },
   "source": [
    "### Part 2.2\n",
    "\n",
    "Implement the function of __Gaussian elimination__. \n",
    "\n",
    "(Note that you need to implement it by hand, simply using some package functions is not allowed.)"
   ]
  },
  {
   "cell_type": "code",
   "execution_count": 15,
   "metadata": {
    "deletable": false,
    "nbgrader": {
     "cell_type": "code",
     "checksum": "bb4d24987010694530254f4a5f311622",
     "grade": false,
     "grade_id": "cell-0f6be9789a3c59d7",
     "locked": false,
     "schema_version": 3,
     "solution": true,
     "task": false
    }
   },
   "outputs": [],
   "source": [
    "def gaussian_elimination(\n",
    "    A,\n",
    "    b\n",
    "):\n",
    "    '''\n",
    "    Arguments:\n",
    "        A : 2D np.array\n",
    "        b : 1D np.array\n",
    "\n",
    "    Return:\n",
    "        x : 1D np.array, solution to Ax=b\n",
    "    '''\n",
    "    \n",
    "    # ===== 請實做程式 =====\n",
    "    U = A\n",
    "    m = len(A)\n",
    "    L = np.diag(np.ones(m))\n",
    "    x = np.zeros([m,1])\n",
    "    new_b = np.copy(b)\n",
    "    \n",
    "    for k in range(m-1):\n",
    "        new_L = np.diag(np.ones(m))\n",
    "        for j in range(k+1,m):\n",
    "            new_L[j,k] = -U[j,k] / U[k,k]\n",
    "            U[j, k:] = U[j, k:] + new_L[j,k] * U[k,k:]\n",
    "            new_b[j,0] = new_b[j,0] + new_L[j,k] * new_b[k,0]\n",
    "        L = new_L@L\n",
    "        \n",
    "    for i in range(m):\n",
    "        if i == 0:\n",
    "            x[-1,0] = new_b[-1,0] / U[-1,-1]\n",
    "        else:\n",
    "            x[-1-i,0] = (new_b[-1-i,0] - U[-1-i,-i:]@x[-i:,0]) / U[-1-i,-1-i]\n",
    "    \n",
    "    return x\n",
    "    # ===================="
   ]
  },
  {
   "cell_type": "markdown",
   "metadata": {
    "deletable": false,
    "editable": false,
    "nbgrader": {
     "cell_type": "markdown",
     "checksum": "2eb45f4cbc9919fac9ab17c8f3b1a47a",
     "grade": false,
     "grade_id": "cell-bc837f64d571bb4e",
     "locked": true,
     "schema_version": 3,
     "solution": false,
     "task": false
    }
   },
   "source": [
    "Store all approximate solutions $\\tilde{x}$ of $H_m$ into a list `x_m` for $m = 2, 3, \\dots, 12$"
   ]
  },
  {
   "cell_type": "code",
   "execution_count": 16,
   "metadata": {
    "deletable": false,
    "editable": false,
    "nbgrader": {
     "cell_type": "code",
     "checksum": "87a89344b08f00ae68597d167b99dc03",
     "grade": false,
     "grade_id": "cell-f67385316be7fa2d",
     "locked": true,
     "schema_version": 3,
     "solution": false,
     "task": false
    }
   },
   "outputs": [],
   "source": [
    "x_m = []\n",
    "for i in range(len(H_m)):\n",
    "    x = gaussian_elimination(H_m[i], b_m[i])\n",
    "    x_m.append(x)"
   ]
  },
  {
   "cell_type": "markdown",
   "metadata": {
    "deletable": false,
    "editable": false,
    "nbgrader": {
     "cell_type": "markdown",
     "checksum": "9891838365c07cd8ad64cd3d2a98d9e9",
     "grade": false,
     "grade_id": "cell-575b1aebb2e4a181",
     "locked": true,
     "schema_version": 3,
     "solution": false,
     "task": false
    }
   },
   "source": [
    "---\n",
    "## Part 3\n",
    "\n",
    "### Investigate the error behavior of the computed solution $\\tilde x$.\n",
    "### (i) Compute the $\\infty$-norm of the residual $r = b-H_{m} \\tilde{x}$.\n",
    "### (ii) Compute the error $\\delta x = \\tilde{x}-x$, where $x$ is the vector of all ones. \n",
    "### (iii) How large can you take $m$ before there is no significant digits in the solution ?"
   ]
  },
  {
   "cell_type": "markdown",
   "metadata": {
    "deletable": false,
    "editable": false,
    "nbgrader": {
     "cell_type": "markdown",
     "checksum": "ae26638d6ce654d4a40d7a374d0ce074",
     "grade": false,
     "grade_id": "cell-e41e2d3dac5e777e",
     "locked": true,
     "schema_version": 3,
     "solution": false,
     "task": false
    }
   },
   "source": [
    "### Part 3.1\n",
    "\n",
    "Compute the $\\infty$-norm of the residual $r_m = b_m-H_{m} \\tilde{x}$ for $m = 2, 3, \\dots, 12$. And store the values into the list `r_m`."
   ]
  },
  {
   "cell_type": "code",
   "execution_count": 17,
   "metadata": {
    "deletable": false,
    "nbgrader": {
     "cell_type": "code",
     "checksum": "344fce0d8ee61999f08901825597aa97",
     "grade": false,
     "grade_id": "cell-9384d758040eef41",
     "locked": false,
     "schema_version": 3,
     "solution": true,
     "task": false
    }
   },
   "outputs": [],
   "source": [
    "r_m = []\n",
    "# ===== 請實做程式 =====\n",
    "for i in range(2,13):\n",
    "    r = b_m[i-2] - hilbert_matrix(i) @ x_m[i-2]\n",
    "    r_m.append(LA.norm(r,np.inf))\n",
    "# ====================\n"
   ]
  },
  {
   "cell_type": "code",
   "execution_count": 18,
   "metadata": {
    "deletable": false,
    "editable": false,
    "nbgrader": {
     "cell_type": "code",
     "checksum": "23f8730abb4e7858bb37a5e00a37fe1d",
     "grade": true,
     "grade_id": "infty_norm",
     "locked": true,
     "points": 3,
     "schema_version": 3,
     "solution": false,
     "task": false
    }
   },
   "outputs": [
    {
     "name": "stdout",
     "output_type": "stream",
     "text": [
      "r_m:\n",
      " [0.0, 2.220446049250313e-16, 0.0, 1.1102230246251565e-16, 1.1102230246251565e-16, 2.220446049250313e-16, 2.220446049250313e-16, 2.220446049250313e-16, 2.220446049250313e-16, 4.440892098500626e-16, 2.220446049250313e-16]\n"
     ]
    }
   ],
   "source": [
    "print('r_m:\\n', r_m)"
   ]
  },
  {
   "cell_type": "markdown",
   "metadata": {
    "deletable": false,
    "editable": false,
    "nbgrader": {
     "cell_type": "markdown",
     "checksum": "c99cd6ac74e50f3e799efb77d7ed3559",
     "grade": false,
     "grade_id": "cell-70b55bb74246398b",
     "locked": true,
     "schema_version": 3,
     "solution": false,
     "task": false
    }
   },
   "source": [
    "Plot the figure of the $\\infty$-norm of the residual for $m = 2, 3, \\dots, 12$"
   ]
  },
  {
   "cell_type": "code",
   "execution_count": 19,
   "metadata": {
    "deletable": false,
    "editable": false,
    "nbgrader": {
     "cell_type": "code",
     "checksum": "6393ee7899a06ce14563536ad5358ea4",
     "grade": false,
     "grade_id": "cell-e4239c7e736b2d9a",
     "locked": true,
     "schema_version": 3,
     "solution": false,
     "task": false
    }
   },
   "outputs": [
    {
     "data": {
      "image/png": "[encoded data removed]",
      "text/plain": [
       "<Figure size 432x288 with 1 Axes>"
      ]
     },
     "metadata": {
      "needs_background": "light"
     },
     "output_type": "display_data"
    }
   ],
   "source": [
    "plt.plot(range(2,13), r_m)\n",
    "plt.xlabel('m')\n",
    "plt.title(r'$||r_m||_\\infty$')\n",
    "plt.show()"
   ]
  },
  {
   "cell_type": "markdown",
   "metadata": {
    "deletable": false,
    "editable": false,
    "nbgrader": {
     "cell_type": "markdown",
     "checksum": "9678ae2ae091427c2922b1b7a3a2869c",
     "grade": false,
     "grade_id": "cell-782ca25c221fcfbd",
     "locked": true,
     "schema_version": 3,
     "solution": false,
     "task": false
    }
   },
   "source": [
    "### Part 3.2\n",
    "\n",
    "Compute the error $\\delta x = \\tilde{x}-x$, where $x$ is the vector of all ones. And store the values into the list `delta_x`."
   ]
  },
  {
   "cell_type": "code",
   "execution_count": 20,
   "metadata": {
    "deletable": false,
    "nbgrader": {
     "cell_type": "code",
     "checksum": "0cf120339e01c751c661b426cc8538a6",
     "grade": false,
     "grade_id": "cell-87a0da52a2f8bc8f",
     "locked": false,
     "schema_version": 3,
     "solution": true,
     "task": false
    }
   },
   "outputs": [],
   "source": [
    "delta_x = []\n",
    "# ===== 請實做程式 =====\n",
    "for i in range(2,13):\n",
    "    delta_x.append(x_m[i-2]-np.ones((i,1)))\n",
    "# ===================="
   ]
  },
  {
   "cell_type": "markdown",
   "metadata": {
    "deletable": false,
    "editable": false,
    "nbgrader": {
     "cell_type": "markdown",
     "checksum": "35136e796e9dac21fc796f87c3e14cc2",
     "grade": false,
     "grade_id": "cell-c192bdd2aba41dc9",
     "locked": true,
     "schema_version": 3,
     "solution": false,
     "task": false
    }
   },
   "source": [
    "Collect all errors $\\delta x$ in 2-norm into the list `delta_x_two_norm` for $m = 2, 3, ..., 12$"
   ]
  },
  {
   "cell_type": "code",
   "execution_count": 21,
   "metadata": {
    "deletable": false,
    "nbgrader": {
     "cell_type": "code",
     "checksum": "b373bc61f66a941f4b4d282d9be270d1",
     "grade": false,
     "grade_id": "cell-cf03e521e09d757d",
     "locked": false,
     "schema_version": 3,
     "solution": true,
     "task": false
    }
   },
   "outputs": [],
   "source": [
    "delta_x_two_norm = []\n",
    "# ===== 請實做程式 =====\n",
    "for i in range(2,13):\n",
    "    delta_x_two_norm.append(LA.norm(delta_x[i-2], 'fro'))\n",
    "# ===================="
   ]
  },
  {
   "cell_type": "code",
   "execution_count": 22,
   "metadata": {
    "deletable": false,
    "editable": false,
    "nbgrader": {
     "cell_type": "code",
     "checksum": "9f8205d3e917096146b3ea28f10540ef",
     "grade": true,
     "grade_id": "delta_x_two_norm",
     "locked": true,
     "points": 2,
     "schema_version": 3,
     "solution": false,
     "task": false
    }
   },
   "outputs": [
    {
     "name": "stdout",
     "output_type": "stream",
     "text": [
      "delta_x_two_norm = [8.005932084973442e-16, 1.762179615616027e-14, 1.531093756529614e-13, 3.0608640212050944e-11, 6.557024926145587e-10, 1.685184424292123e-08, 7.609411454919248e-07, 2.689554885994736e-05, 0.0013355950220451237, 0.025696459345968693, 0.6227493030170683]\n"
     ]
    }
   ],
   "source": [
    "print('delta_x_two_norm =', delta_x_two_norm)"
   ]
  },
  {
   "cell_type": "code",
   "execution_count": 23,
   "metadata": {
    "deletable": false,
    "editable": false,
    "nbgrader": {
     "cell_type": "code",
     "checksum": "05f5c134c2446f31286c6ec1390ced9c",
     "grade": false,
     "grade_id": "cell-703059b09be9eebe",
     "locked": true,
     "schema_version": 3,
     "solution": false,
     "task": false
    }
   },
   "outputs": [
    {
     "data": {
      "image/png": "[encoded data removed]",
      "text/plain": [
       "<Figure size 432x288 with 1 Axes>"
      ]
     },
     "metadata": {
      "needs_background": "light"
     },
     "output_type": "display_data"
    }
   ],
   "source": [
    "plt.plot(range(2,13), delta_x_two_norm)\n",
    "plt.xlabel('m')\n",
    "plt.title(r'$||\\delta_x||_2$')\n",
    "plt.show()"
   ]
  },
  {
   "cell_type": "markdown",
   "metadata": {
    "deletable": false,
    "editable": false,
    "nbgrader": {
     "cell_type": "markdown",
     "checksum": "ae6a96d51afbe7f05af5f77a8f624e28",
     "grade": false,
     "grade_id": "m",
     "locked": true,
     "points": 3,
     "schema_version": 3,
     "solution": false,
     "task": true
    }
   },
   "source": [
    "### Part 3.3\n",
    "\n",
    "How large can you take  $m$  before there is no significant digits in the solution ?"
   ]
  },
  {
   "cell_type": "markdown",
   "metadata": {},
   "source": [
    "When $m=10$, the graph starts rising gradually. \\\n",
    "When $m=11$, the graph starts rocketing. \\\n",
    "Hence, $m$ should take the values which are not greater than $10$."
   ]
  },
  {
   "cell_type": "code",
   "execution_count": null,
   "metadata": {},
   "outputs": [],
   "source": []
  }
 ],
 "metadata": {
  "kernelspec": {
   "display_name": "Python 3",
   "language": "python",
   "name": "python3"
  },
  "language_info": {
   "codemirror_mode": {
    "name": "ipython",
    "version": 3
   },
   "file_extension": ".py",
   "mimetype": "text/x-python",
   "name": "python",
   "nbconvert_exporter": "python",
   "pygments_lexer": "ipython3",
   "version": "3.7.3"
  }
 },
 "nbformat": 4,
 "nbformat_minor": 2
}
