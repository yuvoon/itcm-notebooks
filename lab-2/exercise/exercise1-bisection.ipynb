{
 "cells": [
  {
   "cell_type": "markdown",
   "metadata": {},
   "source": [
    "# Lab 2\n",
    "\n",
    "1. 提交作業之前，建議可以先點選上方工具列的**Kernel**，再選擇**Restart & Run All**，檢查一下是否程式跑起來都沒有問題，最後記得儲存。\n",
    "2. 請先填上下方的姓名(name)及學號(stduent_id)再開始作答，例如：\n",
    "```python\n",
    "name = \"我的名字\"\n",
    "student_id= \"B06201000\"\n",
    "```\n",
    "3. 四個求根演算法的實作可以參考[lab-2](https://yuanyuyuan.github.io/itcm/lab-2.html)，裡面有教學影片也有範例程式可以套用。\n",
    "4. **Deadline: 10/9(Wed.)**"
   ]
  },
  {
   "cell_type": "code",
   "execution_count": 20,
   "metadata": {},
   "outputs": [],
   "source": [
    "name = \"黃宇文\"\n",
    "student_id = \"B06201029\""
   ]
  },
  {
   "cell_type": "markdown",
   "metadata": {},
   "source": [
    "---"
   ]
  },
  {
   "cell_type": "markdown",
   "metadata": {
    "deletable": false,
    "editable": false,
    "nbgrader": {
     "cell_type": "markdown",
     "checksum": "1d340e64918a86c562a2763cd3dc0d01",
     "grade": false,
     "grade_id": "cell-c2d0430879c2f70e",
     "locked": true,
     "schema_version": 3,
     "solution": false,
     "task": false
    }
   },
   "source": [
    "# Exercise 1 - Bisection"
   ]
  },
  {
   "cell_type": "markdown",
   "metadata": {
    "deletable": false,
    "editable": false,
    "nbgrader": {
     "cell_type": "markdown",
     "checksum": "9d14fad767e66331c7fddb0a320bf524",
     "grade": false,
     "grade_id": "cell-33f8ce765657fbdb",
     "locked": true,
     "schema_version": 3,
     "solution": false,
     "task": false
    }
   },
   "source": [
    "### Use the bisection method to find roots of\n",
    "### $$f(x)=cosh(x)+cos(x)-c \\text{, for } c=1, 2, 3,$$\n",
    "\n",
    "---\n",
    "\n",
    "### Import libraries"
   ]
  },
  {
   "cell_type": "code",
   "execution_count": 21,
   "metadata": {
    "deletable": false,
    "editable": false,
    "nbgrader": {
     "cell_type": "code",
     "checksum": "155525b1c29b7a501135130df0323cda",
     "grade": false,
     "grade_id": "cell-f62cddd608acfbcd",
     "locked": true,
     "schema_version": 3,
     "solution": false,
     "task": false
    }
   },
   "outputs": [],
   "source": [
    "import matplotlib.pyplot as plt\n",
    "import numpy as np"
   ]
  },
  {
   "cell_type": "markdown",
   "metadata": {
    "deletable": false,
    "editable": false,
    "nbgrader": {
     "cell_type": "markdown",
     "checksum": "ffbec74c84f79c06c0dddecd0c3f657f",
     "grade": false,
     "grade_id": "cell-63786d9f953bf2de",
     "locked": true,
     "schema_version": 3,
     "solution": false,
     "task": false
    }
   },
   "source": [
    "### 1. Define a function $g(c)(x)=f(x)=cosh(x)+cos(x)-c$ with parameter $c=1, 2, 3$."
   ]
  },
  {
   "cell_type": "code",
   "execution_count": 22,
   "metadata": {
    "deletable": false,
    "nbgrader": {
     "cell_type": "code",
     "checksum": "0b22f9a297d3b22ea66212ef7850a9ae",
     "grade": false,
     "grade_id": "cell-d3866c0338b6c08a",
     "locked": false,
     "schema_version": 3,
     "solution": true,
     "task": false
    }
   },
   "outputs": [],
   "source": [
    "def g(c):\n",
    "    assert c == 1 or c == 2 or c == 3\n",
    "    def f(x):\n",
    "        return np.cosh(x) + np.cos(x) - c\n",
    "    return f"
   ]
  },
  {
   "cell_type": "markdown",
   "metadata": {
    "deletable": false,
    "editable": false,
    "nbgrader": {
     "cell_type": "markdown",
     "checksum": "9d099b6968cc9c23c7777b55c17f50b1",
     "grade": false,
     "grade_id": "cell-0ca3d0b651f434d3",
     "locked": true,
     "schema_version": 3,
     "solution": false,
     "task": false
    }
   },
   "source": [
    "Pass the following assertion."
   ]
  },
  {
   "cell_type": "code",
   "execution_count": 23,
   "metadata": {
    "deletable": false,
    "editable": false,
    "nbgrader": {
     "cell_type": "code",
     "checksum": "1add84e8e34c2d913538ebc03188ad2f",
     "grade": true,
     "grade_id": "cell-b59c94b754b1fc9e",
     "locked": true,
     "points": 1,
     "schema_version": 3,
     "solution": false,
     "task": false
    }
   },
   "outputs": [],
   "source": [
    "assert g(1)(0) == np.cosh(0) + np.cos(0) - 1"
   ]
  },
  {
   "cell_type": "markdown",
   "metadata": {
    "deletable": false,
    "editable": false,
    "nbgrader": {
     "cell_type": "markdown",
     "checksum": "b34ded7e5b585e05adae705456c2ac72",
     "grade": false,
     "grade_id": "cell-006b9dd619c91bed",
     "locked": true,
     "schema_version": 3,
     "solution": false,
     "task": false
    }
   },
   "source": [
    "### 2. Implement the algorithm"
   ]
  },
  {
   "cell_type": "code",
   "execution_count": 24,
   "metadata": {
    "deletable": false,
    "nbgrader": {
     "cell_type": "code",
     "checksum": "6457d52d0ab26986822341e8923a65c4",
     "grade": false,
     "grade_id": "cell-cf778e6b6ea6b307",
     "locked": false,
     "schema_version": 3,
     "solution": true,
     "task": false
    }
   },
   "outputs": [],
   "source": [
    "def bisection(\n",
    "    func,\n",
    "    interval,\n",
    "    max_iterations=5,\n",
    "    tolerance=1e-7,\n",
    "    report_history=False,\n",
    "):\n",
    "    '''\n",
    "    Parameters\n",
    "    ----------\n",
    "    func : function\n",
    "        The target function\n",
    "    interval: list\n",
    "        The initial interval to search\n",
    "    max_iterations: int\n",
    "        One of the termination conditions. The amount of iterations allowed.\n",
    "    tolerance: float\n",
    "        One of the termination conditions. Error tolerance.\n",
    "    report_history: bool\n",
    "        Whether to return history.\n",
    "\n",
    "    Returns\n",
    "    -------\n",
    "    result: float\n",
    "        Approximation of the root.\n",
    "    history: dict\n",
    "        Return history of the solving process if report_history is True.\n",
    "    '''\n",
    "        \n",
    "    a,b = interval\n",
    "    assert func(a) * func(b) < 0, 'This initial interval does not satisfy the prerequisities!'\n",
    "    \n",
    "    num_iterations = 0\n",
    "    a_next, b_next = a, b\n",
    "    \n",
    "    if report_history:\n",
    "        history={'estimation':[],'error':[]}\n",
    "    \n",
    "    while True:\n",
    "        c = (a_next + b_next) / 2\n",
    "        \n",
    "        error = (b_next - a_next) / 2\n",
    "        \n",
    "        if report_history:\n",
    "            history['estimation'].append(c)\n",
    "            history['error'].append(error)\n",
    "\n",
    "        if error < tolerance:\n",
    "            print('The approximation has satisfied the tolerance.')\n",
    "            return (c, history) if report_history else c\n",
    "\n",
    "        if num_iterations < max_iterations:\n",
    "            num_iterations += 1\n",
    "        \n",
    "            value_of_func_c = func(c)\n",
    "            if func(a_next) * func(c) < 0:\n",
    "                a_next = a_next\n",
    "                b_next = c\n",
    "            elif func(a_next) * func(c) > 0:\n",
    "                a_next = c\n",
    "                b_next = b_next\n",
    "            else:\n",
    "                return c\n",
    "        else:\n",
    "            print('Terminate since the iterations have reached maximum.')\n",
    "            return (c, history) if report_history else c"
   ]
  },
  {
   "cell_type": "markdown",
   "metadata": {
    "deletable": false,
    "editable": false,
    "nbgrader": {
     "cell_type": "markdown",
     "checksum": "bab70778ca4afecf4be8693af44e5d85",
     "grade": false,
     "grade_id": "cell-33eae8b80e3d7a75",
     "locked": true,
     "schema_version": 3,
     "solution": false,
     "task": false
    }
   },
   "source": [
    "Test your implementation with the assertion below."
   ]
  },
  {
   "cell_type": "code",
   "execution_count": 25,
   "metadata": {
    "deletable": false,
    "editable": false,
    "nbgrader": {
     "cell_type": "code",
     "checksum": "f4e47e1d68739fa607d103ac256589a9",
     "grade": true,
     "grade_id": "cell-4d88293f2527c82d",
     "locked": true,
     "points": 1,
     "schema_version": 3,
     "solution": false,
     "task": false
    }
   },
   "outputs": [
    {
     "name": "stdout",
     "output_type": "stream",
     "text": [
      "The approximation has satisfied the tolerance.\n"
     ]
    }
   ],
   "source": [
    "root = bisection(lambda x: x**2 - x - 1, [1.0, 2.0], max_iterations=100, tolerance=1e-7, report_history=False)\n",
    "assert abs(root - ((1 + np.sqrt(5)) / 2)) < 1e-7"
   ]
  },
  {
   "cell_type": "markdown",
   "metadata": {
    "deletable": false,
    "editable": false,
    "nbgrader": {
     "cell_type": "markdown",
     "checksum": "d761ce285ebb8cb71e95c4c614ca642c",
     "grade": false,
     "grade_id": "cell-0cf1ce3b6338af44",
     "locked": true,
     "schema_version": 3,
     "solution": false,
     "task": false
    }
   },
   "source": [
    "---\n",
    "\n",
    "### 3. Answer the following questions under the case $c=1$."
   ]
  },
  {
   "cell_type": "markdown",
   "metadata": {
    "deletable": false,
    "editable": false,
    "nbgrader": {
     "cell_type": "markdown",
     "checksum": "ea604e8fa59605d92a533e16aaaff669",
     "grade": false,
     "grade_id": "cell-52419b8f07ea911f",
     "locked": true,
     "schema_version": 3,
     "solution": false,
     "task": false
    }
   },
   "source": [
    "### Plot the function to find an interval that contains the zero of $f$ if possible."
   ]
  },
  {
   "cell_type": "code",
   "execution_count": 26,
   "metadata": {
    "deletable": false,
    "nbgrader": {
     "cell_type": "code",
     "checksum": "b019e5df18bd92e2455f8dc13d45ded4",
     "grade": false,
     "grade_id": "cell-b0ab2d19e453ca85",
     "locked": false,
     "schema_version": 3,
     "solution": true,
     "task": false
    }
   },
   "outputs": [
    {
     "data": {
      "image/png": "[encoded data removed]",
      "text/plain": [
       "<Figure size 648x288 with 1 Axes>"
      ]
     },
     "metadata": {
      "needs_background": "light"
     },
     "output_type": "display_data"
    }
   ],
   "source": [
    "c = 1\n",
    "f = g(c)\n",
    "\n",
    "search_range = np.arange(-3.0, 3.0, 0.01)\n",
    "fig, ax = plt.subplots(figsize=(9, 4))\n",
    "ax.plot(search_range, f(search_range))\n",
    "ax.set_title(r'$f(x)=cosh(x)+cos(x)-c$, $c=$%d' % c)\n",
    "ax.grid(True)\n",
    "ax.axhline(y=0)\n",
    "ax.axvline(x=0)\n",
    "plt.show()"
   ]
  },
  {
   "cell_type": "markdown",
   "metadata": {
    "deletable": false,
    "editable": false,
    "nbgrader": {
     "cell_type": "markdown",
     "checksum": "4a4844f5b11e1c6ba02506a60d011c05",
     "grade": false,
     "grade_id": "cell-32e63015bf696217",
     "locked": true,
     "schema_version": 3,
     "solution": false,
     "task": false
    }
   },
   "source": [
    "### According to the figure above, estimate the zero of $f$.\n",
    "\n",
    "#### For example, \n",
    "\n",
    "~~~python\n",
    "root = 3        # 單根\n",
    "root = -2, 1    # 多根\n",
    "root = None     # 無解\n",
    "~~~"
   ]
  },
  {
   "cell_type": "code",
   "execution_count": 27,
   "metadata": {
    "deletable": false,
    "nbgrader": {
     "cell_type": "code",
     "checksum": "1189f6df5e9f29ca65cdfd1a2f025bf7",
     "grade": false,
     "grade_id": "cell-04d5f93c79b8260d",
     "locked": false,
     "schema_version": 3,
     "solution": true,
     "task": false
    }
   },
   "outputs": [],
   "source": [
    "root = None"
   ]
  },
  {
   "cell_type": "code",
   "execution_count": 28,
   "metadata": {
    "deletable": false,
    "editable": false,
    "nbgrader": {
     "cell_type": "code",
     "checksum": "156cf4709b80861109c5c354302935e7",
     "grade": true,
     "grade_id": "cell-d872c7c57f11c968",
     "locked": true,
     "points": 1,
     "schema_version": 3,
     "solution": false,
     "task": false
    }
   },
   "outputs": [
    {
     "name": "stdout",
     "output_type": "stream",
     "text": [
      "My estimation of root: None\n"
     ]
    }
   ],
   "source": [
    "print('My estimation of root:', root)"
   ]
  },
  {
   "cell_type": "markdown",
   "metadata": {
    "deletable": false,
    "editable": false,
    "nbgrader": {
     "cell_type": "markdown",
     "checksum": "199d3b443b6c750dfad50bfce898946e",
     "grade": false,
     "grade_id": "cell-c64cd5e6250ee47a",
     "locked": true,
     "schema_version": 3,
     "solution": false,
     "task": false
    }
   },
   "source": [
    "### Try to find the zero with a tolerance of $10^{-10}$. If it works, plot the error and estimation of each step. Otherwise, state the reason why the method failed on this case."
   ]
  },
  {
   "cell_type": "markdown",
   "metadata": {
    "deletable": false,
    "nbgrader": {
     "cell_type": "markdown",
     "checksum": "844f52db5587ec7dfce94d08544be0d7",
     "grade": true,
     "grade_id": "cell-898e5d4c01339747",
     "locked": false,
     "points": 1,
     "schema_version": 3,
     "solution": true,
     "task": false
    }
   },
   "source": [
    "The function $cosh(x)+cos(x)-1$ is always positive. The product of functions of any two intervals will never less than zero, thus it has no roots."
   ]
  },
  {
   "cell_type": "markdown",
   "metadata": {
    "deletable": false,
    "editable": false,
    "nbgrader": {
     "cell_type": "markdown",
     "checksum": "0e68457b1886d867c3f7a77dde989bfd",
     "grade": false,
     "grade_id": "cell-abb147e61fc8c850",
     "locked": true,
     "schema_version": 3,
     "solution": false,
     "task": false
    }
   },
   "source": [
    "---\n",
    "\n",
    "### 4. Answer the following questions under the case $c=2$.\n",
    "\n",
    "### Plot the function to find an interval that contains the zero of $f$ if possible."
   ]
  },
  {
   "cell_type": "code",
   "execution_count": 29,
   "metadata": {
    "deletable": false,
    "nbgrader": {
     "cell_type": "code",
     "checksum": "1380f0bc6fa3762c0730ce4abcb2a281",
     "grade": false,
     "grade_id": "cell-b2a7d8e20680371e",
     "locked": false,
     "schema_version": 3,
     "solution": true,
     "task": false
    }
   },
   "outputs": [
    {
     "data": {
      "image/png": "[encoded data removed]",
      "text/plain": [
       "<Figure size 648x288 with 1 Axes>"
      ]
     },
     "metadata": {
      "needs_background": "light"
     },
     "output_type": "display_data"
    }
   ],
   "source": [
    "c = 2\n",
    "f = g(c)\n",
    "\n",
    "search_range = np.arange(-3.0, 3.0, 0.01)\n",
    "fig, ax = plt.subplots(figsize=(9, 4))\n",
    "ax.plot(search_range, f(search_range))\n",
    "ax.set_title(r'$f(x)=cosh(x)+cos(x)-c$, $c=$%d' % c)\n",
    "ax.grid(True)\n",
    "ax.axhline(y=0)\n",
    "ax.axvline(x=0)\n",
    "plt.show()"
   ]
  },
  {
   "cell_type": "markdown",
   "metadata": {
    "deletable": false,
    "editable": false,
    "nbgrader": {
     "cell_type": "markdown",
     "checksum": "ffa7524886ac8157cc9560ceeca258a5",
     "grade": false,
     "grade_id": "cell-a67a9c02317b5c69",
     "locked": true,
     "schema_version": 3,
     "solution": false,
     "task": false
    }
   },
   "source": [
    "### According to the figure above, estimate the zero of $f$.\n",
    "\n",
    "#### For example, \n",
    "\n",
    "~~~python\n",
    "root = 3        # 單根\n",
    "root = -2, 1    # 多根\n",
    "root = None     # 無解\n",
    "~~~"
   ]
  },
  {
   "cell_type": "code",
   "execution_count": 30,
   "metadata": {
    "deletable": false,
    "nbgrader": {
     "cell_type": "code",
     "checksum": "5f3cd6e2a725c63e876461b8b1506ee0",
     "grade": false,
     "grade_id": "cell-364b7f3d6ee6a30e",
     "locked": false,
     "schema_version": 3,
     "solution": true,
     "task": false
    }
   },
   "outputs": [],
   "source": [
    "root = 0 "
   ]
  },
  {
   "cell_type": "code",
   "execution_count": 31,
   "metadata": {
    "deletable": false,
    "editable": false,
    "nbgrader": {
     "cell_type": "code",
     "checksum": "6a39b4238521448890a4b10f3a4a04d6",
     "grade": true,
     "grade_id": "cell-20fddbe6fa4c437b",
     "locked": true,
     "points": 1,
     "schema_version": 3,
     "solution": false,
     "task": false
    }
   },
   "outputs": [
    {
     "name": "stdout",
     "output_type": "stream",
     "text": [
      "My estimation of root: 0\n"
     ]
    }
   ],
   "source": [
    "print('My estimation of root:', root)\n"
   ]
  },
  {
   "cell_type": "markdown",
   "metadata": {
    "deletable": false,
    "editable": false,
    "nbgrader": {
     "cell_type": "markdown",
     "checksum": "ba3cda35ca441b1792b0b027c128a8c7",
     "grade": false,
     "grade_id": "cell-2f855c54d506d35a",
     "locked": true,
     "schema_version": 3,
     "solution": false,
     "task": false
    }
   },
   "source": [
    "### Try to find the zero with a tolerance of $10^{-10}$. If it works, plot the error and estimation of each step. Otherwise, state the reason why the method failed on this case."
   ]
  },
  {
   "cell_type": "markdown",
   "metadata": {
    "deletable": false,
    "nbgrader": {
     "cell_type": "markdown",
     "checksum": "8ce93fca11001d7e1fffd0a7d4549ff4",
     "grade": true,
     "grade_id": "cell-6721bfd92fe83ae0",
     "locked": false,
     "points": 1,
     "schema_version": 3,
     "solution": true,
     "task": false
    }
   },
   "source": [
    "As the root is zero, $func(a) \\times func(b) \\leq 0$ or $func(a) \\times func(b) \\geq 0$. It does not satisfy the prerequisities."
   ]
  },
  {
   "cell_type": "markdown",
   "metadata": {
    "deletable": false,
    "editable": false,
    "nbgrader": {
     "cell_type": "markdown",
     "checksum": "51585345757c00779d63f023b66057c5",
     "grade": false,
     "grade_id": "cell-e7d8891c83a75c3e",
     "locked": true,
     "schema_version": 3,
     "solution": false,
     "task": false
    }
   },
   "source": [
    "---\n",
    "\n",
    "### 5. Answer the following questions under the case $c=3$.\n",
    "\n",
    "### Plot the function to find an interval that contains the zeros of $f$ if possible."
   ]
  },
  {
   "cell_type": "code",
   "execution_count": 32,
   "metadata": {
    "deletable": false,
    "nbgrader": {
     "cell_type": "code",
     "checksum": "6422bc62953ce581a17d858135bc19f3",
     "grade": false,
     "grade_id": "cell-b9e53f953d617465",
     "locked": false,
     "schema_version": 3,
     "solution": true,
     "task": false
    }
   },
   "outputs": [
    {
     "data": {
      "image/png": "[encoded data removed]",
      "text/plain": [
       "<Figure size 648x288 with 1 Axes>"
      ]
     },
     "metadata": {
      "needs_background": "light"
     },
     "output_type": "display_data"
    }
   ],
   "source": [
    "c = 3\n",
    "f = g(c)\n",
    "\n",
    "search_range = np.arange(-3.0, 3.0, 0.01)\n",
    "fig, ax = plt.subplots(figsize=(9, 4))\n",
    "ax.plot(search_range, f(search_range))\n",
    "ax.set_title(r'$f(x)=cosh(x)+cos(x)-c$, $c=$%d' % c)\n",
    "ax.grid(True)\n",
    "ax.axhline(y=0)\n",
    "ax.axvline(x=0)\n",
    "plt.show()"
   ]
  },
  {
   "cell_type": "markdown",
   "metadata": {
    "deletable": false,
    "editable": false,
    "nbgrader": {
     "cell_type": "markdown",
     "checksum": "9c3c69ad5918817928014101aa3440bf",
     "grade": false,
     "grade_id": "cell-d646a84d67b89187",
     "locked": true,
     "schema_version": 3,
     "solution": false,
     "task": false
    }
   },
   "source": [
    "### According to the figure above, estimate the zero of $f$.\n",
    "\n",
    "#### For example, \n",
    "\n",
    "~~~python\n",
    "root = 3        # 單根\n",
    "root = -2, 1    # 多根\n",
    "root = None     # 無解\n",
    "~~~"
   ]
  },
  {
   "cell_type": "code",
   "execution_count": 33,
   "metadata": {
    "deletable": false,
    "nbgrader": {
     "cell_type": "code",
     "checksum": "80101249675898650b291e2a2fa43434",
     "grade": false,
     "grade_id": "cell-1756e3886dd01052",
     "locked": false,
     "schema_version": 3,
     "solution": true,
     "task": false
    }
   },
   "outputs": [
    {
     "name": "stdout",
     "output_type": "stream",
     "text": [
      "The approximation has satisfied the tolerance.\n",
      "The approximation has satisfied the tolerance.\n"
     ]
    }
   ],
   "source": [
    "root_1 = bisection(g(3), [0, 3], max_iterations=50, tolerance=1e-7, report_history=False)\n",
    "root_2 = bisection(g(3), [-3, -1], max_iterations=50, tolerance=1e-7, report_history=False)\n",
    "root = root_1, root_2"
   ]
  },
  {
   "cell_type": "code",
   "execution_count": 34,
   "metadata": {
    "deletable": false,
    "editable": false,
    "nbgrader": {
     "cell_type": "code",
     "checksum": "c256f660f349a6ab14bcc78be117baee",
     "grade": true,
     "grade_id": "cell-06ec0b20844075c7",
     "locked": true,
     "points": 1,
     "schema_version": 3,
     "solution": false,
     "task": false
    }
   },
   "outputs": [
    {
     "name": "stdout",
     "output_type": "stream",
     "text": [
      "My estimation of root: (1.8579208552837372, -1.8579208254814148)\n"
     ]
    }
   ],
   "source": [
    "print('My estimation of root:', root)\n"
   ]
  },
  {
   "cell_type": "markdown",
   "metadata": {
    "deletable": false,
    "editable": false,
    "nbgrader": {
     "cell_type": "markdown",
     "checksum": "fb053dc4e8e72bec77038ea595f71580",
     "grade": false,
     "grade_id": "cell-f1263f2a2fa736d0",
     "locked": true,
     "schema_version": 3,
     "solution": false,
     "task": false
    }
   },
   "source": [
    "### Try to find the zero with a tolerance of $10^{-10}$. If it works, plot the error and estimation of each step. Otherwise, state the reason why the method failed on this case."
   ]
  },
  {
   "cell_type": "markdown",
   "metadata": {
    "deletable": false,
    "nbgrader": {
     "cell_type": "markdown",
     "checksum": "21fd9715ef2170fb2ebf935ad6e73e9b",
     "grade": true,
     "grade_id": "cell-676098e6b38fa075",
     "locked": false,
     "points": 4,
     "schema_version": 3,
     "solution": true,
     "task": false
    }
   },
   "source": [
    "請點此cell兩下開始作答（如要打文字記得選Markdown, 寫程式則選Code, 一個cell不夠可以再新增在下方）"
   ]
  },
  {
   "cell_type": "code",
   "execution_count": 35,
   "metadata": {},
   "outputs": [
    {
     "name": "stdout",
     "output_type": "stream",
     "text": [
      "The approximation has satisfied the tolerance.\n",
      "1.8579208291484974\n"
     ]
    }
   ],
   "source": [
    "solution, history = bisection(\n",
    "    g(3), \n",
    "    [1.0,3.0],\n",
    "    max_iterations=100,\n",
    "    tolerance=1e-10,\n",
    "    report_history=True\n",
    ")\n",
    "print(solution)"
   ]
  },
  {
   "cell_type": "code",
   "execution_count": 36,
   "metadata": {},
   "outputs": [
    {
     "data": {
      "image/png": "[encoded data removed]",
      "text/plain": [
       "<Figure size 1152x648 with 3 Axes>"
      ]
     },
     "metadata": {
      "needs_background": "light"
     },
     "output_type": "display_data"
    }
   ],
   "source": [
    "fig, axes = plt.subplots(3, 1, figsize=(16, 9))\n",
    "ax1, ax2, ax3 = axes\n",
    "\n",
    "num_iterations = len(history['estimation'])\n",
    "iterations = range(num_iterations)\n",
    "for ax in axes:\n",
    "    ax.set_xticks(iterations)\n",
    "\n",
    "ax1.plot(iterations, history['estimation'])\n",
    "ax1.set_ylabel('Estimation')\n",
    "\n",
    "ax2.plot(iterations, history['error'])\n",
    "ax2.set_ylabel('Estimated Error')\n",
    "ax2.set_yscale('log')\n",
    "\n",
    "actual_error = np.abs(history['estimation']-np.array(solution))\n",
    "ax3.plot(iterations, actual_error)\n",
    "ax3.set_ylabel('Actual error')\n",
    "ax3.set_yscale('log')\n",
    "ax3.set_xlabel('Iterations')\n",
    "\n",
    "plt.tight_layout()\n",
    "plt.show()"
   ]
  },
  {
   "cell_type": "code",
   "execution_count": 37,
   "metadata": {},
   "outputs": [
    {
     "name": "stdout",
     "output_type": "stream",
     "text": [
      "The approximation has satisfied the tolerance.\n",
      "-1.8579208291484974\n"
     ]
    }
   ],
   "source": [
    "solution, history = bisection(\n",
    "    g(3), \n",
    "    [-2.0,-1.0],\n",
    "    max_iterations=100,\n",
    "    tolerance=1e-10,\n",
    "    report_history=True\n",
    ")\n",
    "print(solution)"
   ]
  },
  {
   "cell_type": "code",
   "execution_count": 38,
   "metadata": {},
   "outputs": [
    {
     "data": {
      "image/png": "[encoded data removed]",
      "text/plain": [
       "<Figure size 1152x648 with 3 Axes>"
      ]
     },
     "metadata": {
      "needs_background": "light"
     },
     "output_type": "display_data"
    }
   ],
   "source": [
    "fig, axes = plt.subplots(3, 1, figsize=(16, 9))\n",
    "ax1, ax2, ax3 = axes\n",
    "\n",
    "num_iterations = len(history['estimation'])\n",
    "iterations = range(num_iterations)\n",
    "for ax in axes:\n",
    "    ax.set_xticks(iterations)\n",
    "\n",
    "ax1.plot(iterations, history['estimation'])\n",
    "ax1.set_ylabel('Estimation')\n",
    "\n",
    "ax2.plot(iterations, history['error'])\n",
    "ax2.set_ylabel('Estimated Error')\n",
    "ax2.set_yscale('log')\n",
    "\n",
    "actual_error = np.abs(history['estimation']-np.array(solution))\n",
    "ax3.plot(iterations, actual_error)\n",
    "ax3.set_ylabel('Actual error')\n",
    "ax3.set_yscale('log')\n",
    "ax3.set_xlabel('Iterations')\n",
    "\n",
    "plt.tight_layout()\n",
    "plt.show()"
   ]
  },
  {
   "cell_type": "markdown",
   "metadata": {
    "deletable": false,
    "editable": false,
    "nbgrader": {
     "cell_type": "markdown",
     "checksum": "8233a48cc983855947fb72ef5fae3f65",
     "grade": false,
     "grade_id": "cell-318c6129a6ea59dc",
     "locked": true,
     "schema_version": 3,
     "solution": false,
     "task": false
    }
   },
   "source": [
    "---\n",
    "\n",
    "## Discussion\n",
    "\n",
    "### For all cases above(c=1,2,3), do the results(e.g. error behaviors, estimations, etc) agree with the theoretical analysis?"
   ]
  },
  {
   "cell_type": "markdown",
   "metadata": {
    "deletable": false,
    "nbgrader": {
     "cell_type": "markdown",
     "checksum": "d6c5e05247980ab6021686b53463e762",
     "grade": true,
     "grade_id": "cell-492b11d873a7f6c2",
     "locked": false,
     "points": 3,
     "schema_version": 3,
     "solution": true,
     "task": false
    }
   },
   "source": [
    "For $c=1$, the function does not satisfy the prerequisties.\\\n",
    "For $c=2$, the function cut the $x$ axis at only one point.\\\n",
    "For $c=3$, the results agree with the theorical analysis. Bisection method has a linear approximation."
   ]
  },
  {
   "cell_type": "code",
   "execution_count": null,
   "metadata": {},
   "outputs": [],
   "source": []
  }
 ],
 "metadata": {
  "kernelspec": {
   "display_name": "Python 3",
   "language": "python",
   "name": "python3"
  },
  "language_info": {
   "codemirror_mode": {
    "name": "ipython",
    "version": 3
   },
   "file_extension": ".py",
   "mimetype": "text/x-python",
   "name": "python",
   "nbconvert_exporter": "python",
   "pygments_lexer": "ipython3",
   "version": "3.7.3"
  }
 },
 "nbformat": 4,
 "nbformat_minor": 2
}
