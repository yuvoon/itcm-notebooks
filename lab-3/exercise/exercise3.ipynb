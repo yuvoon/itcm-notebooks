{
 "cells": [
  {
   "cell_type": "markdown",
   "metadata": {},
   "source": [
    "# Lab 3\n",
    "\n",
    "1. 提交作業之前，建議可以先點選上方工具列的**Kernel**，再選擇**Restart & Run All**，檢查一下是否程式跑起來都沒有問題，最後記得儲存。\n",
    "2. 請先填上下方的姓名(name)及學號(stduent_id)再開始作答，例如：\n",
    "```python\n",
    "name = \"我的名字\"\n",
    "student_id= \"B06201000\"\n",
    "```\n",
    "3. 演算法的實作可以參考[lab-3](https://yuanyuyuan.github.io/itcm/lab-3.html), 有任何問題歡迎找助教詢問。\n",
    "4. **Deadline: 10/30(Wed.)**"
   ]
  },
  {
   "cell_type": "code",
   "execution_count": 1,
   "metadata": {},
   "outputs": [],
   "source": [
    "name = \"黃宇文\"\n",
    "student_id = \"B06201029\""
   ]
  },
  {
   "cell_type": "markdown",
   "metadata": {},
   "source": [
    "---"
   ]
  },
  {
   "cell_type": "markdown",
   "metadata": {
    "deletable": false,
    "editable": false,
    "nbgrader": {
     "cell_type": "markdown",
     "checksum": "fe11ffb3ca315839e41330e26ba44b0e",
     "grade": false,
     "grade_id": "cell-029b33681230ac7a",
     "locked": true,
     "schema_version": 3,
     "solution": false,
     "task": false
    }
   },
   "source": [
    "# Exercise 3\n",
    "---\n",
    "\n",
    "## The price (in euros) of a magazine has changed as follows:\n",
    "\n",
    "| Nov. 87 | Dec. 88 | Nov. 90 | Jan. 93 | Jan. 95 | Jan. 96 | Nov. 96 | Nov. 00 |\n",
    "|:------:|:------:|:------:|:------:|:------:|:------:|:------:|:------:|\n",
    "|    4.5    |    5.0    |     6.0    |    6.5   |    7.0    |    7.5    |     8.0    |    8.0    |\n",
    " \n"
   ]
  },
  {
   "cell_type": "markdown",
   "metadata": {
    "deletable": false,
    "editable": false,
    "nbgrader": {
     "cell_type": "markdown",
     "checksum": "9d2ecb7ab71ce47b3501b4700b07958c",
     "grade": false,
     "grade_id": "cell-0feb1891b8734aa0",
     "locked": true,
     "schema_version": 3,
     "solution": false,
     "task": false
    }
   },
   "source": [
    "---\n",
    "## 1. Use the interpolating polynomial of <span style=\"color:red\"> *degree 7* </span> to estimate the price in February 1989, in April 1998 and in November 2002."
   ]
  },
  {
   "cell_type": "markdown",
   "metadata": {
    "deletable": false,
    "editable": false,
    "nbgrader": {
     "cell_type": "markdown",
     "checksum": "5ab88c4e79523713fdebb1ccb8f1a5a2",
     "grade": false,
     "grade_id": "cell-e352a56fd49cb4c4",
     "locked": true,
     "schema_version": 3,
     "solution": false,
     "task": false
    }
   },
   "source": [
    "### Part 0. Import libraries."
   ]
  },
  {
   "cell_type": "code",
   "execution_count": 2,
   "metadata": {
    "deletable": false,
    "editable": false,
    "nbgrader": {
     "cell_type": "code",
     "checksum": "1620fe123d17d4cc7e8c9a5daf6c7a5d",
     "grade": false,
     "grade_id": "cell-b65107b9cca9b4c6",
     "locked": true,
     "schema_version": 3,
     "solution": false,
     "task": false
    }
   },
   "outputs": [],
   "source": [
    "import matplotlib.pyplot as plt\n",
    "import numpy as np"
   ]
  },
  {
   "cell_type": "markdown",
   "metadata": {
    "deletable": false,
    "editable": false,
    "nbgrader": {
     "cell_type": "markdown",
     "checksum": "3be0ccf5878ca049f29c079bda6a55ce",
     "grade": false,
     "grade_id": "cell-165897dd73d57c43",
     "locked": true,
     "schema_version": 3,
     "solution": false,
     "task": false
    }
   },
   "source": [
    "### Part 1. Define the polynomial interpolation function.\n",
    "#### Please refer part of polynomial interpolation function in \" _lagrange.ipynb_ \"."
   ]
  },
  {
   "cell_type": "code",
   "execution_count": 3,
   "metadata": {
    "deletable": false,
    "nbgrader": {
     "cell_type": "code",
     "checksum": "6f1f627fc15f1f2f6ebb2c79b425b952",
     "grade": false,
     "grade_id": "cell-b92741ba48ce0969",
     "locked": false,
     "schema_version": 3,
     "solution": true,
     "task": false
    }
   },
   "outputs": [],
   "source": [
    "def lagrange(points):\n",
    "    \n",
    "    # 請參考 hands-on 的 Largrange polynomial interpolation\n",
    "    # ===== 請實做程式 =====\n",
    "    def polynomial(x):\n",
    "        total_sum = 0\n",
    "        n = len(points)\n",
    "        \n",
    "        for i in range(n):\n",
    "            x_i, y_i = points[i]\n",
    "            \n",
    "            # Construct the cardinal function\n",
    "            def g(i, n):\n",
    "                product = 1\n",
    "                \n",
    "                for j in range(n):\n",
    "                    \n",
    "                    # Skip when i = j\n",
    "                    if i == j:\n",
    "                        continue\n",
    "                        \n",
    "                    # multiply when i ≠ j\n",
    "                    x_j, y_j = points[j]\n",
    "                    product *= (x-x_j) / float(x_i-x_j)\n",
    "                    \n",
    "                    # ====================\n",
    "\n",
    "                return product\n",
    "            # End construct the cardinal function\n",
    "\n",
    "            # Add each term\n",
    "            total_sum += y_i * g(i,n)\n",
    "            \n",
    "            # ====================\n",
    "        \n",
    "        return total_sum\n",
    "    # End construct Lagrange polynomial\n",
    "    \n",
    "    # Return polynomial\n",
    "    return polynomial\n",
    "    # ===================="
   ]
  },
  {
   "cell_type": "code",
   "execution_count": 4,
   "metadata": {
    "deletable": false,
    "editable": false,
    "nbgrader": {
     "cell_type": "code",
     "checksum": "5621c2448b1989937811ba2516d2f9cb",
     "grade": true,
     "grade_id": "interpolation_function",
     "locked": true,
     "points": 2,
     "schema_version": 3,
     "solution": false,
     "task": false
    }
   },
   "outputs": [
    {
     "name": "stdout",
     "output_type": "stream",
     "text": [
      "P(2) = 4.0\n"
     ]
    }
   ],
   "source": [
    "# Test\n",
    "P = lagrange((\n",
    "    (0, 0),\n",
    "    (1, 1),\n",
    "    (-1, 1)\n",
    "))\n",
    "\n",
    "print('P(2) =', P(2))\n"
   ]
  },
  {
   "cell_type": "markdown",
   "metadata": {
    "deletable": false,
    "editable": false,
    "nbgrader": {
     "cell_type": "markdown",
     "checksum": "67a7ee024695c26763ee6f2a7a8be484",
     "grade": false,
     "grade_id": "cell-5d3d6af19e939bfe",
     "locked": true,
     "schema_version": 3,
     "solution": false,
     "task": false
    }
   },
   "source": [
    "### Part 2. Transfer data to input points ($x$: dates, $y$: prices)."
   ]
  },
  {
   "cell_type": "code",
   "execution_count": 5,
   "metadata": {
    "deletable": false,
    "nbgrader": {
     "cell_type": "code",
     "checksum": "77b335605325c26f0bb70bdacce7a12e",
     "grade": false,
     "grade_id": "cell-46ab08b8a8a5ac3f",
     "locked": false,
     "schema_version": 3,
     "solution": true,
     "task": false
    }
   },
   "outputs": [],
   "source": [
    "# Hint: points = ((*, *), ..., (*, *))\n",
    "# ===== 請實做程式 =====\n",
    "points = ((10/12,4.5),(1+11/12,5.0),(3+10/12,6.0),(6,6.5),(8,7.0),(9,7.5),(9+10/12,8.0),(13+10/12,8.0))\n",
    "# ===================="
   ]
  },
  {
   "cell_type": "code",
   "execution_count": 6,
   "metadata": {
    "deletable": false,
    "editable": false,
    "nbgrader": {
     "cell_type": "code",
     "checksum": "8d516b72669a4b61e7e53d48a3ac5fc2",
     "grade": true,
     "grade_id": "points_date",
     "locked": true,
     "points": 1,
     "schema_version": 3,
     "solution": false,
     "task": false
    }
   },
   "outputs": [
    {
     "name": "stdout",
     "output_type": "stream",
     "text": [
      "points: ((0.8333333333333334, 4.5), (1.9166666666666665, 5.0), (3.8333333333333335, 6.0), (6, 6.5), (8, 7.0), (9, 7.5), (9.833333333333334, 8.0), (13.833333333333334, 8.0))\n"
     ]
    }
   ],
   "source": [
    "print('points:', points)\n"
   ]
  },
  {
   "cell_type": "markdown",
   "metadata": {
    "deletable": false,
    "editable": false,
    "nbgrader": {
     "cell_type": "markdown",
     "checksum": "f605a93485db090471fae2c5f9fd9823",
     "grade": false,
     "grade_id": "cell-251b74099d2ccb0b",
     "locked": true,
     "schema_version": 3,
     "solution": false,
     "task": false
    }
   },
   "source": [
    "### Part 3-1. Estimate the price in February 1989."
   ]
  },
  {
   "cell_type": "code",
   "execution_count": 19,
   "metadata": {
    "deletable": false,
    "nbgrader": {
     "cell_type": "code",
     "checksum": "122b68ae3acf1996e1aefc78eeb6b42f",
     "grade": false,
     "grade_id": "cell-bcb21488a3694921",
     "locked": false,
     "schema_version": 3,
     "solution": true,
     "task": false
    }
   },
   "outputs": [],
   "source": [
    "# ===== 請實做程式 =====\n",
    "P = lagrange(points)\n",
    "estimated_price = P(2+10/12)\n",
    "# ===================="
   ]
  },
  {
   "cell_type": "code",
   "execution_count": 20,
   "metadata": {
    "deletable": false,
    "editable": false,
    "nbgrader": {
     "cell_type": "code",
     "checksum": "c9d0ba5ce4abba437004057e2f2d0ac7",
     "grade": true,
     "grade_id": "Feb_1989",
     "locked": true,
     "points": 2,
     "schema_version": 3,
     "solution": false,
     "task": false
    }
   },
   "outputs": [
    {
     "name": "stdout",
     "output_type": "stream",
     "text": [
      "My estimated price in February 1989 is 5.523674063086548\n"
     ]
    }
   ],
   "source": [
    "print(\"My estimated price in February 1989 is\", estimated_price)\n"
   ]
  },
  {
   "cell_type": "markdown",
   "metadata": {
    "deletable": false,
    "editable": false,
    "nbgrader": {
     "cell_type": "markdown",
     "checksum": "ffacc6334e63b6dc6ca49ca1c7878f46",
     "grade": false,
     "grade_id": "cell-b4e7234706bf85ce",
     "locked": true,
     "schema_version": 3,
     "solution": false,
     "task": false
    }
   },
   "source": [
    "### Part 3-2. Estimate the price in April 1998."
   ]
  },
  {
   "cell_type": "code",
   "execution_count": 30,
   "metadata": {
    "deletable": false,
    "nbgrader": {
     "cell_type": "code",
     "checksum": "6e358434ca44d7aed2dac0d76ff67dac",
     "grade": false,
     "grade_id": "cell-bf5fbb6e845ab1d9",
     "locked": false,
     "schema_version": 3,
     "solution": true,
     "task": false
    }
   },
   "outputs": [],
   "source": [
    "# ===== 請實做程式 =====\n",
    "estimated_price = P(11.25)\n",
    "# ===================="
   ]
  },
  {
   "cell_type": "code",
   "execution_count": 31,
   "metadata": {
    "deletable": false,
    "editable": false,
    "nbgrader": {
     "cell_type": "code",
     "checksum": "642bd6a7783ea77367b0088f5b3965cf",
     "grade": true,
     "grade_id": "April_1998",
     "locked": true,
     "points": 2,
     "schema_version": 3,
     "solution": false,
     "task": false
    }
   },
   "outputs": [
    {
     "name": "stdout",
     "output_type": "stream",
     "text": [
      "My estimated price in April 1998 is 8.676742602621566\n"
     ]
    }
   ],
   "source": [
    "print(\"My estimated price in April 1998 is\", estimated_price)\n"
   ]
  },
  {
   "cell_type": "markdown",
   "metadata": {
    "deletable": false,
    "editable": false,
    "nbgrader": {
     "cell_type": "markdown",
     "checksum": "d83ee7131828d33b188aa46bccee0297",
     "grade": false,
     "grade_id": "cell-08770197d742713c",
     "locked": true,
     "schema_version": 3,
     "solution": false,
     "task": false
    }
   },
   "source": [
    "### Part 3-3. Estimate the price in November 2002."
   ]
  },
  {
   "cell_type": "code",
   "execution_count": 32,
   "metadata": {
    "deletable": false,
    "nbgrader": {
     "cell_type": "code",
     "checksum": "dbbfe9e339ea42c0efaf7943091516a6",
     "grade": false,
     "grade_id": "cell-9b0ccd2ec1684fc1",
     "locked": false,
     "schema_version": 3,
     "solution": true,
     "task": false
    }
   },
   "outputs": [],
   "source": [
    "# ===== 請實做程式 =====\n",
    "estimated_price = P(15+10/12)\n",
    "# ===================="
   ]
  },
  {
   "cell_type": "code",
   "execution_count": 33,
   "metadata": {
    "deletable": false,
    "editable": false,
    "nbgrader": {
     "cell_type": "code",
     "checksum": "e99d91841634f90edae5b90479094790",
     "grade": true,
     "grade_id": "Nov_2002",
     "locked": true,
     "points": 2,
     "schema_version": 3,
     "solution": false,
     "task": false
    }
   },
   "outputs": [
    {
     "name": "stdout",
     "output_type": "stream",
     "text": [
      "My estimated price in November 2002 is 11.241257976734623\n"
     ]
    }
   ],
   "source": [
    "print(\"My estimated price in November 2002 is\", estimated_price)\n"
   ]
  },
  {
   "cell_type": "code",
   "execution_count": null,
   "metadata": {},
   "outputs": [],
   "source": []
  }
 ],
 "metadata": {
  "kernelspec": {
   "display_name": "Python 3",
   "language": "python",
   "name": "python3"
  },
  "language_info": {
   "codemirror_mode": {
    "name": "ipython",
    "version": 3
   },
   "file_extension": ".py",
   "mimetype": "text/x-python",
   "name": "python",
   "nbconvert_exporter": "python",
   "pygments_lexer": "ipython3",
   "version": "3.7.3"
  }
 },
 "nbformat": 4,
 "nbformat_minor": 2
}
